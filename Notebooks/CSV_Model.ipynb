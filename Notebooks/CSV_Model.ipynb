{
 "cells": [
  {
   "cell_type": "code",
   "execution_count": 29,
   "metadata": {},
   "outputs": [],
   "source": [
    "%matplotlib inline\n",
    "%reload_ext autoreload\n",
    "%autoreload 2"
   ]
  },
  {
   "cell_type": "code",
   "execution_count": 30,
   "metadata": {},
   "outputs": [],
   "source": [
    "from scripts.core import *"
   ]
  },
  {
   "cell_type": "code",
   "execution_count": 31,
   "metadata": {},
   "outputs": [],
   "source": [
    "from scripts.dataset import CSVData, MovingObjectData, SingleCSV\n",
    "from scripts.loss import weightedMSE\n",
    "import pickle"
   ]
  },
  {
   "cell_type": "markdown",
   "metadata": {},
   "source": [
    "As loading and cleaning the dataset takes some time, we load the dataset and save it in a pickle file to be loaded below. This makes the process of loading the dataset quicker the next time we run the model."
   ]
  },
  {
   "cell_type": "code",
   "execution_count": 45,
   "metadata": {
    "deletable": false,
    "editable": false,
    "run_control": {
     "frozen": true
    },
    "scrolled": true
   },
   "outputs": [
    {
     "name": "stderr",
     "output_type": "stream",
     "text": [
      "/home/sufiyan/MTP/code/Notebooks/scripts/dataset.py:209: DtypeWarning: Columns (2376,2504) have mixed types. Specify dtype option on import or set low_memory=False.\n",
      "  if preload: self.data = [SingleCSV.fromCSV(self.files[i], **self.kwargs).data for i in range(self.__len__())]\n"
     ]
    }
   ],
   "source": [
    "data=MovingObjectData.fromCSVFolder(\"/home/sufiyan/data/Daimler/100_vids/csv/\")\n",
    "with open(\"/home/sufiyan/data/Daimler/100_vids/pickled_160_csv_14Feb\", 'wb') as f:\n",
    "    pickle.dump(data, f)"
   ]
  },
  {
   "cell_type": "markdown",
   "metadata": {},
   "source": [
    "Loading the dataset. To see how the dataset works, see [scripts/dataset.py](https://github.com/dumbPy/MTP/blob/master/scripts/dataset.py)"
   ]
  },
  {
   "cell_type": "code",
   "execution_count": 4,
   "metadata": {},
   "outputs": [],
   "source": [
    "with open(\"/home/sufiyan/data/Daimler/100_vids/pickled_160_csv_14Feb\", 'rb') as f:\n",
    "    dataset=pickle.load(f)"
   ]
  },
  {
   "cell_type": "code",
   "execution_count": 5,
   "metadata": {},
   "outputs": [],
   "source": [
    "path=\"/home/sufiyan/Common_data/mtp2/dataset/NEW/100_vids/\""
   ]
  },
  {
   "cell_type": "markdown",
   "metadata": {},
   "source": [
    "Total number of files in the dataset"
   ]
  },
  {
   "cell_type": "code",
   "execution_count": 6,
   "metadata": {},
   "outputs": [
    {
     "data": {
      "text/plain": [
       "161"
      ]
     },
     "execution_count": 6,
     "metadata": {},
     "output_type": "execute_result"
    }
   ],
   "source": [
    "len(dataset)"
   ]
  },
  {
   "cell_type": "markdown",
   "metadata": {},
   "source": [
    "Number of files for **Left**, **Right** and **Other** classes respectively. These include flipped files for Left and Right"
   ]
  },
  {
   "cell_type": "code",
   "execution_count": 22,
   "metadata": {
    "scrolled": true
   },
   "outputs": [
    {
     "name": "stdout",
     "output_type": "stream",
     "text": [
      "61\n",
      "61\n",
      "39\n"
     ]
    }
   ],
   "source": [
    "print(len([1 for x,y in dataset if y==0]))\n",
    "print(len([1 for x,y in dataset if y==1]))\n",
    "print(len([1 for x,y in dataset if y==2]))"
   ]
  },
  {
   "cell_type": "markdown",
   "metadata": {},
   "source": [
    "Seperating train and test files."
   ]
  },
  {
   "cell_type": "code",
   "execution_count": 8,
   "metadata": {},
   "outputs": [],
   "source": [
    "np.random.seed(10) #seting seed for always selecting same train and test set\n",
    "totalFiles=len(dataset)\n",
    "testFiles=np.random.choice(totalFiles, int(0.2*totalFiles)) #20% files as test files"
   ]
  },
  {
   "cell_type": "markdown",
   "metadata": {},
   "source": [
    "Defining the Dataloaders for training and validation data"
   ]
  },
  {
   "cell_type": "code",
   "execution_count": 9,
   "metadata": {
    "scrolled": true
   },
   "outputs": [],
   "source": [
    "trainLoader=torch.utils.data.DataLoader([(x,y) for i,(x,y) in enumerate(dataset) if not i in testFiles])\n",
    "testLoader=torch.utils.data.DataLoader([(x,y) for i,(x,y) in enumerate(dataset) if i in testFiles])"
   ]
  },
  {
   "cell_type": "markdown",
   "metadata": {},
   "source": [
    "A simple model defined below is trained. It consists of a 2 Layer LSTM followed by a fully connected Layer"
   ]
  },
  {
   "cell_type": "code",
   "execution_count": 10,
   "metadata": {},
   "outputs": [],
   "source": [
    "class CSVmodel(nn.Module):\n",
    "    def __init__(self,categories=3):\n",
    "        super().__init__()\n",
    "        self.l1=nn.LSTM(input_size=4,hidden_size=10, dropout=0.1, num_layers=2)\n",
    "        self.l2=nn.Linear(in_features=10,out_features=categories)\n",
    "        self.softmax=nn.Softmax()\n",
    "    def forward(self,x):\n",
    "        x,_=self.l1(x)\n",
    "        x=x[:,-1,:]\n",
    "        x= self.l2(x)\n",
    "        return x"
   ]
  },
  {
   "cell_type": "code",
   "execution_count": 32,
   "metadata": {},
   "outputs": [],
   "source": [
    "from scripts.learners import ModelLearner, ParallelLearner"
   ]
  },
  {
   "cell_type": "markdown",
   "metadata": {},
   "source": [
    "ParallelLearner class takes ModelLearners that take models and other parameters like learning rate, optimization function and loss function."
   ]
  },
  {
   "cell_type": "code",
   "execution_count": 12,
   "metadata": {},
   "outputs": [],
   "source": [
    "learner=ParallelLearner(\n",
    "                [ModelLearner(CSVmodel(), lr=0.001, loss_fn=partial(weightedMSE, [1,1,0.1]), \n",
    "                              optim=torch.optim.SGD, modelName='movingObjectDataModel' ),\n",
    "                ModelLearner(CSVmodel(), lr=0.001, loss_fn=partial(weightedMSE, [0.5,0.5,0.1]), \n",
    "                             optim=torch.optim.SGD, modelName='movingObjectDataModel' ),\n",
    "                ModelLearner(CSVmodel(), lr=0.001, loss_fn=torch.nn.MSELoss, optim=torch.optim.SGD, \n",
    "                             modelName='movingObjectDataModel' ),\n",
    "                ModelLearner(CSVmodel(), lr=0.001, loss_fn=torch.nn.CrossEntropyLoss, \n",
    "                             optim=torch.optim.SGD, modelName='movingObjectDataModel' )],\n",
    "        epochs=10, trainLoader=trainLoader, printEvery=102, validLoader=testLoader)"
   ]
  },
  {
   "cell_type": "markdown",
   "metadata": {},
   "source": [
    "The ParallelLearner trains all the models parallelly by using the same data"
   ]
  },
  {
   "cell_type": "code",
   "execution_count": 13,
   "metadata": {
    "scrolled": false
   },
   "outputs": [
    {
     "data": {
      "application/vnd.jupyter.widget-view+json": {
       "model_id": "25fcadc39d8e4e4381859a7fbbfa3df1",
       "version_major": 2,
       "version_minor": 0
      },
      "text/plain": [
       "HBox(children=(IntProgress(value=0, max=300), HTML(value='')))"
      ]
     },
     "metadata": {},
     "output_type": "display_data"
    },
    {
     "name": "stderr",
     "output_type": "stream",
     "text": [
      "                                                                                \r"
     ]
    },
    {
     "name": "stdout",
     "output_type": "stream",
     "text": [
      "\n",
      "**************************************************\n",
      "Epoch: 101   Time Elapsed: 180.90190029144287\n",
      "lr: 0.001      trainLoss: 0.16085467718993174\n",
      "lr: 0.001      trainLoss: 0.08506680731520508\n",
      "lr: 0.001      trainLoss: 0.2055754978774172\n",
      "lr: 0.001      trainLoss: 1.0765285758358059\n",
      "lr: 0.001      MSE validationLoss: 0.16290668937666664\n",
      "lr: 0.001      MSE validationLoss: 0.0839960981031944\n",
      "lr: 0.001      MSE validationLoss: 0.20516309655945877\n",
      "lr: 0.001      CE validationLoss: 1.077730012351069\n"
     ]
    },
    {
     "name": "stderr",
     "output_type": "stream",
     "text": [
      "Avg Loss: 0.11654533445835114:   0%|          | 0/132 [00:00<?, ?it/s]          "
     ]
    },
    {
     "name": "stdout",
     "output_type": "stream",
     "text": [
      "\n",
      "**************************************************\n",
      "Epoch: 203   Time Elapsed: 360.8289260864258\n",
      "lr: 0.001      trainLoss: 0.15260552575416636\n",
      "lr: 0.001      trainLoss: 0.08431612245851394\n",
      "lr: 0.001      trainLoss: 0.19020974675588537\n",
      "lr: 0.001      trainLoss: 1.06217486975771\n",
      "lr: 0.001      MSE validationLoss: 0.15828177101653199\n",
      "lr: 0.001      MSE validationLoss: 0.08391020883773935\n",
      "lr: 0.001      MSE validationLoss: 0.18474472648110882\n",
      "lr: 0.001      CE validationLoss: 1.0691689581706607\n"
     ]
    },
    {
     "name": "stderr",
     "output_type": "stream",
     "text": [
      "                                                                                "
     ]
    },
    {
     "name": "stdout",
     "output_type": "stream",
     "text": [
      "\n"
     ]
    },
    {
     "name": "stderr",
     "output_type": "stream",
     "text": [
      "\r"
     ]
    }
   ],
   "source": [
    "learner.train(300)"
   ]
  },
  {
   "cell_type": "markdown",
   "metadata": {},
   "source": [
    "Plotting the loss for all the 4 models above. "
   ]
  },
  {
   "cell_type": "code",
   "execution_count": 25,
   "metadata": {},
   "outputs": [
    {
     "data": {
      "image/png": "[encoded data removed]",
      "text/plain": [
       "<Figure size 432x288 with 1 Axes>"
      ]
     },
     "metadata": {},
     "output_type": "display_data"
    }
   ],
   "source": [
    "learner.plotLoss(\"Loss\", [\"trainLoss1\", \"trainLoss2\", \"trainLoss3\", \"trainLoss4\"], \n",
    "                 [\"testLoss1\", \"testLoss2\",\"testLoss3\",\"testLoss4\"])"
   ]
  },
  {
   "cell_type": "code",
   "execution_count": 16,
   "metadata": {},
   "outputs": [
    {
     "data": {
      "text/plain": [
       "39600"
      ]
     },
     "execution_count": 16,
     "metadata": {},
     "output_type": "execute_result"
    }
   ],
   "source": [
    "modLearner.num_samples_seen"
   ]
  },
  {
   "cell_type": "markdown",
   "metadata": {},
   "source": [
    "Plotting confusion matrix for training dataset for all the four loss functions namely weighted_MSE (1,1,0.1), weighted_MSE(0.5, 0.5, 0.1), MSE and CrossEntropyLoss."
   ]
  },
  {
   "cell_type": "code",
   "execution_count": 18,
   "metadata": {},
   "outputs": [
    {
     "name": "stdout",
     "output_type": "stream",
     "text": [
      "wMSE1\n",
      "[[42  9  0]\n",
      " [11 38  0]\n",
      " [22 10  0]]\n",
      "wMSE2\n",
      "[[41 10  0]\n",
      " [36 13  0]\n",
      " [26  6  0]]\n",
      "MSE\n",
      "[[36 15  0]\n",
      " [ 5 44  0]\n",
      " [20 12  0]]\n",
      "CE\n",
      "[[48  3  0]\n",
      " [17 32  0]\n",
      " [23  9  0]]\n"
     ]
    }
   ],
   "source": [
    "print(\"wMSE1\"); print(learner.learners[0].train_confusion_matrix_list[-1])\n",
    "print(\"wMSE2\"); print(learner.learners[1].train_confusion_matrix_list[-1])\n",
    "print(\"MSE\"); print(learner.learners[2].train_confusion_matrix_list[-1])\n",
    "print(\"CE\"); print(learner.learners[3].train_confusion_matrix_list[-1])"
   ]
  },
  {
   "cell_type": "code",
   "execution_count": 19,
   "metadata": {},
   "outputs": [
    {
     "data": {
      "text/plain": [
       "MSELoss()"
      ]
     },
     "execution_count": 19,
     "metadata": {},
     "output_type": "execute_result"
    }
   ],
   "source": [
    "learner.learners[2].loss"
   ]
  },
  {
   "cell_type": "markdown",
   "metadata": {},
   "source": [
    "Confision Matrix for all the loss functions for test data"
   ]
  },
  {
   "cell_type": "code",
   "execution_count": 20,
   "metadata": {},
   "outputs": [
    {
     "name": "stdout",
     "output_type": "stream",
     "text": [
      "wMSE1\n",
      "[[10  0  0]\n",
      " [ 4  8  0]\n",
      " [ 6  1  0]]\n",
      "wMSE2\n",
      "[[9 1 0]\n",
      " [8 4 0]\n",
      " [5 2 0]]\n",
      "MSE\n",
      "[[ 9  1  0]\n",
      " [ 2 10  0]\n",
      " [ 4  3  0]]\n",
      "CE\n",
      "[[10  0  0]\n",
      " [ 5  7  0]\n",
      " [ 6  1  0]]\n"
     ]
    }
   ],
   "source": [
    "print(\"wMSE1\"); print(learner.learners[0].valid_confusion_matrix_list[-1])\n",
    "print(\"wMSE2\"); print(learner.learners[1].valid_confusion_matrix_list[-1])\n",
    "print(\"MSE\"); print(learner.learners[2].valid_confusion_matrix_list[-1])\n",
    "print(\"CE\"); print(learner.learners[3].valid_confusion_matrix_list[-1])"
   ]
  },
  {
   "cell_type": "markdown",
   "metadata": {},
   "source": [
    "We see above in test/validation data that the model does considerably well in MSE on **Left (0)** and **right (1)** classes, while it doesn't on **Other** classes (2). It doesn't perform well in weighted MSE class or Cross Entropy either. We will try to train the same model with weighted MSE with high weight to **Other (2)** class and see how it works below."
   ]
  },
  {
   "cell_type": "code",
   "execution_count": 41,
   "metadata": {},
   "outputs": [],
   "source": [
    "learner_2=ParallelLearner(\n",
    "                [ModelLearner(CSVmodel(), lr=0.001, loss_fn=partial(weightedMSE, [1,1,2]), \n",
    "                              optim=torch.optim.SGD, modelName='movingObjectDataModel' ),\n",
    "                 ModelLearner(CSVmodel(), lr=0.001, loss_fn=partial(weightedMSE, [1,1,5]), \n",
    "                              optim=torch.optim.SGD, modelName='movingObjectDataModel' ),\n",
    "                 ModelLearner(CSVmodel(), lr=0.001, loss_fn=partial(weightedMSE, [1,1,10]), \n",
    "                              optim=torch.optim.SGD, modelName='movingObjectDataModel' )\n",
    "                ],epochs=100, trainLoader=trainLoader, printEvery=102, validLoader=testLoader)"
   ]
  },
  {
   "cell_type": "code",
   "execution_count": 42,
   "metadata": {},
   "outputs": [
    {
     "data": {
      "application/vnd.jupyter.widget-view+json": {
       "model_id": "5365e31863584945a6dcba2fea9d9f50",
       "version_major": 2,
       "version_minor": 0
      },
      "text/plain": [
       "HBox(children=(IntProgress(value=0), HTML(value='')))"
      ]
     },
     "metadata": {},
     "output_type": "display_data"
    },
    {
     "name": "stderr",
     "output_type": "stream",
     "text": [
      "                                                                                \r"
     ]
    },
    {
     "name": "stdout",
     "output_type": "stream",
     "text": [
      "\n"
     ]
    }
   ],
   "source": [
    "learner_2.train(100)"
   ]
  },
  {
   "cell_type": "code",
   "execution_count": 43,
   "metadata": {},
   "outputs": [
    {
     "data": {
      "image/png": "[encoded data removed]",
      "text/plain": [
       "<Figure size 432x288 with 1 Axes>"
      ]
     },
     "metadata": {},
     "output_type": "display_data"
    }
   ],
   "source": [
    "learner_2.plotLoss(\"Loss_for_wMSE_1:1:2\",  [\"trainLoss_1\", \"trainLoss_2\", \"trainLoss_3\"], \n",
    "                                           [\"testLoss_1\", \"testLoss_2\", \"testLoss_3\"])"
   ]
  },
  {
   "cell_type": "code",
   "execution_count": 44,
   "metadata": {},
   "outputs": [
    {
     "name": "stdout",
     "output_type": "stream",
     "text": [
      "wMSE_1:1:2\n",
      "[[10  0  0]\n",
      " [ 4  8  0]\n",
      " [ 6  1  0]]\n",
      "wMSE_1:1:5\n",
      "[[9 1 0]\n",
      " [8 4 0]\n",
      " [5 2 0]]\n",
      "wMSE_1:1:10\n",
      "[[ 9  1  0]\n",
      " [ 2 10  0]\n",
      " [ 4  3  0]]\n"
     ]
    }
   ],
   "source": [
    "print(\"wMSE_1:1:2\"); print(learner.learners[0].valid_confusion_matrix_list[-1])\n",
    "print(\"wMSE_1:1:5\"); print(learner.learners[1].valid_confusion_matrix_list[-1])\n",
    "print(\"wMSE_1:1:10\"); print(learner.learners[2].valid_confusion_matrix_list[-1])"
   ]
  },
  {
   "cell_type": "code",
   "execution_count": null,
   "metadata": {},
   "outputs": [],
   "source": []
  }
 ],
 "metadata": {
  "kernelspec": {
   "display_name": "Python 3",
   "language": "python",
   "name": "python3"
  },
  "language_info": {
   "codemirror_mode": {
    "name": "ipython",
    "version": 3
   },
   "file_extension": ".py",
   "mimetype": "text/x-python",
   "name": "python",
   "nbconvert_exporter": "python",
   "pygments_lexer": "ipython3",
   "version": "3.6.5"
  }
 },
 "nbformat": 4,
 "nbformat_minor": 2
}
