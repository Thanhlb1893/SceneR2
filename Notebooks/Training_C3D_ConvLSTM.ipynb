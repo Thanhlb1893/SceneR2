{
 "cells": [
  {
   "cell_type": "code",
   "execution_count": 1,
   "metadata": {},
   "outputs": [],
   "source": [
    "%reload_ext autoreload\n",
    "%autoreload 2\n",
    "%matplotlib inline"
   ]
  },
  {
   "cell_type": "code",
   "execution_count": 2,
   "metadata": {},
   "outputs": [],
   "source": [
    "import numpy as np, os\n",
    "from scripts.core import *\n",
    "from fastai.learner import Learner\n",
    "import fastai\n",
    "from torch.utils.data import Dataset\n",
    "from scripts.models import *\n",
    "from scripts.learners import modelLearner, ParallelLearner"
   ]
  },
  {
   "cell_type": "code",
   "execution_count": 3,
   "metadata": {},
   "outputs": [],
   "source": [
    "class Vid100Datasat(Dataset):\n",
    "    def __init__(self, train=True):\n",
    "        super().__init__()\n",
    "        import random\n",
    "        self.train=train\n",
    "        PTH = '/home/sufiyan/Common_data/mtp2/makeDataset/Sub Video/data/Mercedes_224_224_Manual_annonate_8sec_LSTM_short_005_'\n",
    "        PTH_L=os.path.join(PTH,\"LEFT\")\n",
    "        PTH_R=os.path.join(PTH,\"RIGHT\")\n",
    "        PTH_C=os.path.join(PTH,\"CLEAR\")\n",
    "        left_vids =[os.path.join(d,f) for d,_,fs in os.walk(PTH_L) for f in fs if f.split(\".\")[-1]=='npy']\n",
    "        right_vids=[os.path.join(d,f) for d,_,fs in os.walk(PTH_R) for f in fs if f.split(\".\")[-1]=='npy']\n",
    "        clear_vids=[os.path.join(d,f) for d,_,fs in os.walk(PTH_C) for f in fs if f.split(\".\")[-1]=='npy']\n",
    "        self.fileNames=left_vids+right_vids+clear_vids\n",
    "        np.random.shuffle(self.fileNames)\n",
    "     \n",
    "    @staticmethod\n",
    "    def stoi(label):\n",
    "        stoi={\"CLEAR\":0, \"LEFT\":1, \"RIGHT\":2}\n",
    "        return stoi[label]\n",
    "    \n",
    "    def __getitem__(self,i):\n",
    "        X=np.load(self.fileNames[i])\n",
    "        y=self.get_label(i)\n",
    "        y=np.asarray([self.stoi(label) for label in y])\n",
    "        X=np.expand_dims(X,1)\n",
    "        X=np.concatenate((X,X,X), axis=1)\n",
    "        return (torch.from_numpy(X), y)\n",
    "    def __len__(self): return len(self.fileNames)\n",
    "    \n",
    "    def get_label(self, i):\n",
    "        filename=self.fileNames[i]\n",
    "        if self.train:\n",
    "              return np.load(filename.replace('/data/','/label/'))\n",
    "        else: return np.load(filename.replace('/data/','/val_label/'))"
   ]
  },
  {
   "cell_type": "code",
   "execution_count": null,
   "metadata": {},
   "outputs": [],
   "source": []
  },
  {
   "cell_type": "code",
   "execution_count": 4,
   "metadata": {},
   "outputs": [],
   "source": [
    "trainLoader=torch.utils.data.DataLoader(Vid100Datasat(train=True) ,batch_size=1, shuffle=True)\n",
    "validLoader=torch.utils.data.DataLoader(Vid100Datasat(train=False),batch_size=1, shuffle=True)"
   ]
  },
  {
   "cell_type": "code",
   "execution_count": 5,
   "metadata": {},
   "outputs": [],
   "source": [
    "learner=ParallelLearner([modelLearner(C3D_resnet_ConvLSTM2D(3, 3), loss_fn=nn.MSELoss, optim=torch.optim.SGD, modelName=\"MSE_22Oct\", lr=0.0001, is_depth=True)], epochs=2, trainLoader=trainLoader, validLoader=validLoader, printEvery=1)"
   ]
  },
  {
   "cell_type": "code",
   "execution_count": 6,
   "metadata": {},
   "outputs": [
    {
     "name": "stderr",
     "output_type": "stream",
     "text": [
      "100%|██████████| 793/793 [20:17<00:00,  1.54s/it]\n"
     ]
    },
    {
     "name": "stdout",
     "output_type": "stream",
     "text": [
      "\n",
      "**************************************************\n",
      "Epoch: 0   Time Elapsed: 1217.7005751132965\n",
      "lr: 0.0001      trainLoss: 219.60212153196335\n"
     ]
    },
    {
     "name": "stderr",
     "output_type": "stream",
     "text": [
      "\r",
      "  0%|          | 0/793 [00:00<?, ?it/s]"
     ]
    },
    {
     "name": "stdout",
     "output_type": "stream",
     "text": [
      "lr: 0.0001      MSE testLoss: 192.5027190297842\n"
     ]
    },
    {
     "name": "stderr",
     "output_type": "stream",
     "text": [
      "100%|██████████| 793/793 [20:23<00:00,  1.54s/it]\n"
     ]
    },
    {
     "name": "stdout",
     "output_type": "stream",
     "text": [
      "\n",
      "**************************************************\n",
      "Epoch: 1   Time Elapsed: 3107.680511236191\n",
      "lr: 0.0001      trainLoss: 198.4656713604927\n",
      "lr: 0.0001      MSE testLoss: 176.2449575960636\n"
     ]
    }
   ],
   "source": [
    "learner.train()"
   ]
  },
  {
   "cell_type": "code",
   "execution_count": 15,
   "metadata": {},
   "outputs": [],
   "source": [
    "c=learner.learners[0].confusion_matrix"
   ]
  },
  {
   "cell_type": "markdown",
   "metadata": {},
   "source": [
    "#### The Model has overfitted to Clear Label"
   ]
  },
  {
   "cell_type": "code",
   "execution_count": 17,
   "metadata": {},
   "outputs": [
    {
     "data": {
      "text/plain": [
       "array([[269718,      0,      0],\n",
       "       [ 23750,      0,      0],\n",
       "       [ 23732,      0,      0]], dtype=int32)"
      ]
     },
     "execution_count": 17,
     "metadata": {},
     "output_type": "execute_result"
    }
   ],
   "source": [
    "c.value()"
   ]
  },
  {
   "cell_type": "code",
   "execution_count": null,
   "metadata": {},
   "outputs": [],
   "source": []
  }
 ],
 "metadata": {
  "kernelspec": {
   "display_name": "Python 3",
   "language": "python",
   "name": "python3"
  },
  "language_info": {
   "codemirror_mode": {
    "name": "ipython",
    "version": 3
   },
   "file_extension": ".py",
   "mimetype": "text/x-python",
   "name": "python",
   "nbconvert_exporter": "python",
   "pygments_lexer": "ipython3",
   "version": "3.6.5"
  }
 },
 "nbformat": 4,
 "nbformat_minor": 2
}
