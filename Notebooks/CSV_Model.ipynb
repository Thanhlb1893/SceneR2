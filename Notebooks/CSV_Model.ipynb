{
 "cells": [
  {
   "cell_type": "code",
   "execution_count": 1,
   "metadata": {},
   "outputs": [],
   "source": [
    "%matplotlib inline\n",
    "%reload_ext autoreload\n",
    "%autoreload 2"
   ]
  },
  {
   "cell_type": "code",
   "execution_count": 2,
   "metadata": {},
   "outputs": [],
   "source": [
    "from scripts.core import *"
   ]
  },
  {
   "cell_type": "code",
   "execution_count": 3,
   "metadata": {},
   "outputs": [],
   "source": [
    "from scripts.learners import ModelLearner, ParallelLearner\n",
    "from scripts.dataset import CSVData, MovingObjectData, SingleCSV\n",
    "from scripts.loss import weightedMSE\n",
    "import pickle"
   ]
  },
  {
   "cell_type": "markdown",
   "metadata": {},
   "source": [
    "As loading and cleaning the dataset takes some time, we load the dataset and save it in a pickle file to be loaded below. This makes the process of loading the dataset quicker the next time we run the model."
   ]
  },
  {
   "cell_type": "code",
   "execution_count": 45,
   "metadata": {
    "deletable": false,
    "editable": false,
    "run_control": {
     "frozen": true
    },
    "scrolled": true
   },
   "outputs": [
    {
     "name": "stderr",
     "output_type": "stream",
     "text": [
      "/home/sufiyan/MTP/code/Notebooks/scripts/dataset.py:209: DtypeWarning: Columns (2376,2504) have mixed types. Specify dtype option on import or set low_memory=False.\n",
      "  if preload: self.data = [SingleCSV.fromCSV(self.files[i], **self.kwargs).data for i in range(self.__len__())]\n"
     ]
    }
   ],
   "source": [
    "data=MovingObjectData.fromCSVFolder(\"/home/sufiyan/data/Daimler/100_vids/csv/\")\n",
    "with open(\"/home/sufiyan/data/Daimler/100_vids/pickled_160_csv_14Feb\", 'wb') as f:\n",
    "    pickle.dump(data, f)"
   ]
  },
  {
   "cell_type": "markdown",
   "metadata": {},
   "source": [
    "Loading the dataset. To see how the dataset works, see [scripts/dataset.py](https://github.com/dumbPy/MTP/blob/master/scripts/dataset.py)"
   ]
  },
  {
   "cell_type": "code",
   "execution_count": 4,
   "metadata": {},
   "outputs": [],
   "source": [
    "with open(\"/home/sufiyan/data/Daimler/100_vids/pickled_160_csv_14Feb\", 'rb') as f:\n",
    "    dataset=pickle.load(f)"
   ]
  },
  {
   "cell_type": "code",
   "execution_count": 5,
   "metadata": {},
   "outputs": [],
   "source": [
    "path=\"/home/sufiyan/Common_data/mtp2/dataset/NEW/100_vids/\""
   ]
  },
  {
   "cell_type": "markdown",
   "metadata": {},
   "source": [
    "Total number of files in the dataset"
   ]
  },
  {
   "cell_type": "code",
   "execution_count": 6,
   "metadata": {},
   "outputs": [
    {
     "data": {
      "text/plain": [
       "161"
      ]
     },
     "execution_count": 6,
     "metadata": {},
     "output_type": "execute_result"
    }
   ],
   "source": [
    "len(dataset)"
   ]
  },
  {
   "cell_type": "markdown",
   "metadata": {},
   "source": [
    "Number of files for **Left**, **Right** and **Other** classes respectively. These include flipped files for Left and Right"
   ]
  },
  {
   "cell_type": "code",
   "execution_count": 7,
   "metadata": {
    "scrolled": true
   },
   "outputs": [
    {
     "name": "stdout",
     "output_type": "stream",
     "text": [
      "61\n",
      "61\n",
      "39\n"
     ]
    }
   ],
   "source": [
    "print(len([1 for x,y in dataset if y==0]))\n",
    "print(len([1 for x,y in dataset if y==1]))\n",
    "print(len([1 for x,y in dataset if y==2]))"
   ]
  },
  {
   "cell_type": "markdown",
   "metadata": {},
   "source": [
    "Seperating train and test files."
   ]
  },
  {
   "cell_type": "code",
   "execution_count": 8,
   "metadata": {},
   "outputs": [],
   "source": [
    "np.random.seed(10) #seting seed for always selecting same train and test set\n",
    "totalFiles=len(dataset)\n",
    "testFiles=np.random.choice(totalFiles, int(0.2*totalFiles)) #20% files as test files"
   ]
  },
  {
   "cell_type": "markdown",
   "metadata": {},
   "source": [
    "Defining the Dataloaders for training and validation data"
   ]
  },
  {
   "cell_type": "code",
   "execution_count": 9,
   "metadata": {
    "scrolled": true
   },
   "outputs": [],
   "source": [
    "trainLoader=torch.utils.data.DataLoader([(x,y) for i,(x,y) in enumerate(dataset) if not i in testFiles])\n",
    "testLoader=torch.utils.data.DataLoader([(x,y) for i,(x,y) in enumerate(dataset) if i in testFiles])"
   ]
  },
  {
   "cell_type": "markdown",
   "metadata": {},
   "source": [
    "A simple model defined below is trained. It consists of a 2 Layer LSTM followed by a fully connected Layer"
   ]
  },
  {
   "cell_type": "code",
   "execution_count": 10,
   "metadata": {},
   "outputs": [],
   "source": [
    "class CSVmodel(nn.Module):\n",
    "    def __init__(self,categories=3, input_size=4, hidden_size=10, dropout=0.1):\n",
    "        super().__init__()\n",
    "        self.l1=nn.LSTM(input_size=input_size,hidden_size=hidden_size, dropout=dropout, num_layers=2)\n",
    "        self.l2=nn.Linear(in_features=hidden_size,out_features=categories)\n",
    "        self.softmax=nn.Softmax()\n",
    "    def forward(self,x):\n",
    "        x,_=self.l1(x)\n",
    "        x=x[:,-1,:]\n",
    "        x= self.l2(x)\n",
    "        return x"
   ]
  },
  {
   "cell_type": "markdown",
   "metadata": {},
   "source": [
    "ParallelLearner class takes ModelLearners that take models and other parameters like learning rate, optimization function and loss function."
   ]
  },
  {
   "cell_type": "code",
   "execution_count": 12,
   "metadata": {
    "deletable": false,
    "editable": false,
    "run_control": {
     "frozen": true
    }
   },
   "outputs": [],
   "source": [
    "learner=ParallelLearner(\n",
    "                [ModelLearner(CSVmodel(), lr=0.001, loss_fn=partial(weightedMSE, [1,1,0.1]), \n",
    "                              optim=torch.optim.SGD, modelName='movingObjectDataModel' ),\n",
    "                ModelLearner(CSVmodel(), lr=0.001, loss_fn=partial(weightedMSE, [0.5,0.5,0.1]), \n",
    "                             optim=torch.optim.SGD, modelName='movingObjectDataModel' ),\n",
    "                ModelLearner(CSVmodel(), lr=0.001, loss_fn=torch.nn.MSELoss, optim=torch.optim.SGD, \n",
    "                             modelName='movingObjectDataModel' ),\n",
    "                ModelLearner(CSVmodel(), lr=0.001, loss_fn=torch.nn.CrossEntropyLoss, \n",
    "                             optim=torch.optim.SGD, modelName='movingObjectDataModel' )],\n",
    "        epochs=10, trainLoader=trainLoader, printEvery=102, validLoader=testLoader)"
   ]
  },
  {
   "cell_type": "markdown",
   "metadata": {},
   "source": [
    "The ParallelLearner trains all the models parallelly by using the same data"
   ]
  },
  {
   "cell_type": "code",
   "execution_count": 13,
   "metadata": {
    "deletable": false,
    "editable": false,
    "run_control": {
     "frozen": true
    },
    "scrolled": false
   },
   "outputs": [
    {
     "data": {
      "application/vnd.jupyter.widget-view+json": {
       "model_id": "25fcadc39d8e4e4381859a7fbbfa3df1",
       "version_major": 2,
       "version_minor": 0
      },
      "text/plain": [
       "HBox(children=(IntProgress(value=0, max=300), HTML(value='')))"
      ]
     },
     "metadata": {},
     "output_type": "display_data"
    },
    {
     "name": "stderr",
     "output_type": "stream",
     "text": [
      "                                                                                \r"
     ]
    },
    {
     "name": "stdout",
     "output_type": "stream",
     "text": [
      "\n",
      "**************************************************\n",
      "Epoch: 101   Time Elapsed: 180.90190029144287\n",
      "lr: 0.001      trainLoss: 0.16085467718993174\n",
      "lr: 0.001      trainLoss: 0.08506680731520508\n",
      "lr: 0.001      trainLoss: 0.2055754978774172\n",
      "lr: 0.001      trainLoss: 1.0765285758358059\n",
      "lr: 0.001      MSE validationLoss: 0.16290668937666664\n",
      "lr: 0.001      MSE validationLoss: 0.0839960981031944\n",
      "lr: 0.001      MSE validationLoss: 0.20516309655945877\n",
      "lr: 0.001      CE validationLoss: 1.077730012351069\n"
     ]
    },
    {
     "name": "stderr",
     "output_type": "stream",
     "text": [
      "Avg Loss: 0.11654533445835114:   0%|          | 0/132 [00:00<?, ?it/s]          "
     ]
    },
    {
     "name": "stdout",
     "output_type": "stream",
     "text": [
      "\n",
      "**************************************************\n",
      "Epoch: 203   Time Elapsed: 360.8289260864258\n",
      "lr: 0.001      trainLoss: 0.15260552575416636\n",
      "lr: 0.001      trainLoss: 0.08431612245851394\n",
      "lr: 0.001      trainLoss: 0.19020974675588537\n",
      "lr: 0.001      trainLoss: 1.06217486975771\n",
      "lr: 0.001      MSE validationLoss: 0.15828177101653199\n",
      "lr: 0.001      MSE validationLoss: 0.08391020883773935\n",
      "lr: 0.001      MSE validationLoss: 0.18474472648110882\n",
      "lr: 0.001      CE validationLoss: 1.0691689581706607\n"
     ]
    },
    {
     "name": "stderr",
     "output_type": "stream",
     "text": [
      "                                                                                "
     ]
    },
    {
     "name": "stdout",
     "output_type": "stream",
     "text": [
      "\n"
     ]
    },
    {
     "name": "stderr",
     "output_type": "stream",
     "text": [
      "\r"
     ]
    }
   ],
   "source": [
    "learner.train(300)"
   ]
  },
  {
   "cell_type": "markdown",
   "metadata": {},
   "source": [
    "Plotting the loss for all the 4 models above. "
   ]
  },
  {
   "cell_type": "code",
   "execution_count": 25,
   "metadata": {
    "deletable": false,
    "editable": false,
    "run_control": {
     "frozen": true
    }
   },
   "outputs": [
    {
     "data": {
      "image/png": "[encoded data removed]",
      "text/plain": [
       "<Figure size 432x288 with 1 Axes>"
      ]
     },
     "metadata": {},
     "output_type": "display_data"
    }
   ],
   "source": [
    "learner.plotLoss(\"Loss\", [\"trainLoss1\", \"trainLoss2\", \"trainLoss3\", \"trainLoss4\"], \n",
    "                 [\"testLoss1\", \"testLoss2\",\"testLoss3\",\"testLoss4\"])"
   ]
  },
  {
   "cell_type": "code",
   "execution_count": 16,
   "metadata": {
    "deletable": false,
    "editable": false,
    "run_control": {
     "frozen": true
    }
   },
   "outputs": [
    {
     "data": {
      "text/plain": [
       "39600"
      ]
     },
     "execution_count": 16,
     "metadata": {},
     "output_type": "execute_result"
    }
   ],
   "source": [
    "modLearner.num_samples_seen"
   ]
  },
  {
   "cell_type": "markdown",
   "metadata": {},
   "source": [
    "Plotting confusion matrix for training dataset for all the four loss functions namely weighted_MSE (1,1,0.1), weighted_MSE(0.5, 0.5, 0.1), MSE and CrossEntropyLoss."
   ]
  },
  {
   "cell_type": "code",
   "execution_count": 18,
   "metadata": {
    "deletable": false,
    "editable": false,
    "run_control": {
     "frozen": true
    }
   },
   "outputs": [
    {
     "name": "stdout",
     "output_type": "stream",
     "text": [
      "wMSE1\n",
      "[[42  9  0]\n",
      " [11 38  0]\n",
      " [22 10  0]]\n",
      "wMSE2\n",
      "[[41 10  0]\n",
      " [36 13  0]\n",
      " [26  6  0]]\n",
      "MSE\n",
      "[[36 15  0]\n",
      " [ 5 44  0]\n",
      " [20 12  0]]\n",
      "CE\n",
      "[[48  3  0]\n",
      " [17 32  0]\n",
      " [23  9  0]]\n"
     ]
    }
   ],
   "source": [
    "print(\"wMSE1\"); print(learner.learners[0].train_confusion_matrix_list[-1])\n",
    "print(\"wMSE2\"); print(learner.learners[1].train_confusion_matrix_list[-1])\n",
    "print(\"MSE\"); print(learner.learners[2].train_confusion_matrix_list[-1])\n",
    "print(\"CE\"); print(learner.learners[3].train_confusion_matrix_list[-1])"
   ]
  },
  {
   "cell_type": "code",
   "execution_count": 19,
   "metadata": {
    "deletable": false,
    "editable": false,
    "run_control": {
     "frozen": true
    }
   },
   "outputs": [
    {
     "data": {
      "text/plain": [
       "MSELoss()"
      ]
     },
     "execution_count": 19,
     "metadata": {},
     "output_type": "execute_result"
    }
   ],
   "source": [
    "learner.learners[2].loss"
   ]
  },
  {
   "cell_type": "markdown",
   "metadata": {
    "deletable": false,
    "editable": false,
    "run_control": {
     "frozen": true
    }
   },
   "source": [
    "Confision Matrix for all the loss functions for test data"
   ]
  },
  {
   "cell_type": "code",
   "execution_count": 20,
   "metadata": {
    "deletable": false,
    "editable": false,
    "run_control": {
     "frozen": true
    }
   },
   "outputs": [
    {
     "name": "stdout",
     "output_type": "stream",
     "text": [
      "wMSE1\n",
      "[[10  0  0]\n",
      " [ 4  8  0]\n",
      " [ 6  1  0]]\n",
      "wMSE2\n",
      "[[9 1 0]\n",
      " [8 4 0]\n",
      " [5 2 0]]\n",
      "MSE\n",
      "[[ 9  1  0]\n",
      " [ 2 10  0]\n",
      " [ 4  3  0]]\n",
      "CE\n",
      "[[10  0  0]\n",
      " [ 5  7  0]\n",
      " [ 6  1  0]]\n"
     ]
    }
   ],
   "source": [
    "print(\"wMSE1\"); print(learner.learners[0].valid_confusion_matrix_list[-1])\n",
    "print(\"wMSE2\"); print(learner.learners[1].valid_confusion_matrix_list[-1])\n",
    "print(\"MSE\"); print(learner.learners[2].valid_confusion_matrix_list[-1])\n",
    "print(\"CE\"); print(learner.learners[3].valid_confusion_matrix_list[-1])"
   ]
  },
  {
   "cell_type": "markdown",
   "metadata": {},
   "source": [
    "We see above in test/validation data that the model does considerably well in MSE on **Left (0)** and **right (1)** classes, while it doesn't on **Other** classes (2). It doesn't perform well in weighted MSE class or Cross Entropy either. We will try to train the same model with weighted MSE with high weight to **Other (2)** class and see how it works below."
   ]
  },
  {
   "cell_type": "code",
   "execution_count": 11,
   "metadata": {
    "deletable": false,
    "editable": false,
    "run_control": {
     "frozen": true
    }
   },
   "outputs": [],
   "source": [
    "learner_2=ParallelLearner(\n",
    "                [ModelLearner(CSVmodel(), lr=0.001, loss_fn=partial(weightedMSE, [1,1,2]), \n",
    "                              optim=torch.optim.SGD, modelName='movingObjectDataModel' ),\n",
    "                 ModelLearner(CSVmodel(), lr=0.001, loss_fn=partial(weightedMSE, [1,1,5]), \n",
    "                              optim=torch.optim.SGD, modelName='movingObjectDataModel' ),\n",
    "                 ModelLearner(CSVmodel(), lr=0.001, loss_fn=partial(weightedMSE, [1,1,10]), \n",
    "                              optim=torch.optim.SGD, modelName='movingObjectDataModel' )\n",
    "                ],epochs=100, trainLoader=trainLoader, printEvery=102, validLoader=testLoader)"
   ]
  },
  {
   "cell_type": "code",
   "execution_count": 12,
   "metadata": {
    "deletable": false,
    "editable": false,
    "run_control": {
     "frozen": true
    },
    "scrolled": false
   },
   "outputs": [
    {
     "data": {
      "application/vnd.jupyter.widget-view+json": {
       "model_id": "da97b2ae848647bdaa23459cecf76a26",
       "version_major": 2,
       "version_minor": 0
      },
      "text/plain": [
       "HBox(children=(IntProgress(value=0), HTML(value='')))"
      ]
     },
     "metadata": {},
     "output_type": "display_data"
    },
    {
     "name": "stderr",
     "output_type": "stream",
     "text": [
      "                                                                                 "
     ]
    },
    {
     "name": "stdout",
     "output_type": "stream",
     "text": [
      "\n"
     ]
    },
    {
     "name": "stderr",
     "output_type": "stream",
     "text": [
      "\r"
     ]
    }
   ],
   "source": [
    "learner_2.train(100)"
   ]
  },
  {
   "cell_type": "code",
   "execution_count": 13,
   "metadata": {
    "deletable": false,
    "editable": false,
    "run_control": {
     "frozen": true
    }
   },
   "outputs": [
    {
     "data": {
      "image/png": "[encoded data removed]",
      "text/plain": [
       "<Figure size 432x288 with 1 Axes>"
      ]
     },
     "metadata": {},
     "output_type": "display_data"
    }
   ],
   "source": [
    "learner_2.plotLoss(\"Loss_for_wMSE_1:1:2\",  [\"trainLoss_1\", \"trainLoss_2\", \"trainLoss_3\"], \n",
    "                                           [\"testLoss_1\", \"testLoss_2\", \"testLoss_3\"])"
   ]
  },
  {
   "cell_type": "code",
   "execution_count": 14,
   "metadata": {
    "deletable": false,
    "editable": false,
    "run_control": {
     "frozen": true
    }
   },
   "outputs": [
    {
     "name": "stdout",
     "output_type": "stream",
     "text": [
      "wMSE_1:1:2\n",
      "[[8 2 0]\n",
      " [3 9 0]\n",
      " [4 3 0]]\n",
      "wMSE_1:1:5\n",
      "[[1 9 0]\n",
      " [7 5 0]\n",
      " [6 1 0]]\n",
      "wMSE_1:1:10\n",
      "[[2 8 0]\n",
      " [2 6 4]\n",
      " [1 3 3]]\n"
     ]
    }
   ],
   "source": [
    "print(\"wMSE_1:1:2\"); print(learner_2.learners[0].valid_confusion_matrix_list[-1])\n",
    "print(\"wMSE_1:1:5\"); print(learner_2.learners[1].valid_confusion_matrix_list[-1])\n",
    "print(\"wMSE_1:1:10\"); print(learner_2.learners[2].valid_confusion_matrix_list[-1])"
   ]
  },
  {
   "cell_type": "markdown",
   "metadata": {},
   "source": [
    "We see that, as we increase the weight for **Other (2)** class to 10, the model does tries to learn the class, but messes the other 2 classes. Other  than that, the model is not able to learn the **Other** class.\n",
    "\n",
    "The above models were trained only with considering 4 columns representing MovingObjects as below"
   ]
  },
  {
   "cell_type": "code",
   "execution_count": 61,
   "metadata": {
    "deletable": false,
    "editable": false,
    "run_control": {
     "frozen": true
    }
   },
   "outputs": [],
   "source": [
    "mov_data=MovingObjectData.fromCSVFolder(\"/home/sufiyan/data/Daimler/100_vids/csv/\", preload=False)"
   ]
  },
  {
   "cell_type": "code",
   "execution_count": 62,
   "metadata": {
    "deletable": false,
    "editable": false,
    "run_control": {
     "frozen": true
    }
   },
   "outputs": [
    {
     "name": "stderr",
     "output_type": "stream",
     "text": [
      "/home/sufiyan/anaconda3/envs/fastai/lib/python3.6/site-packages/ipykernel_launcher.py:1: DtypeWarning: Columns (2376,2504) have mixed types. Specify dtype option on import or set low_memory=False.\n",
      "  \"\"\"Entry point for launching an IPython kernel.\n"
     ]
    },
    {
     "name": "stdout",
     "output_type": "stream",
     "text": [
      "Reason for Braking:  Pedestrian A\n"
     ]
    },
    {
     "data": {
      "image/png": "[encoded data removed]",
      "text/plain": [
       "<Figure size 432x288 with 4 Axes>"
      ]
     },
     "metadata": {},
     "output_type": "display_data"
    }
   ],
   "source": [
    "mov_data.plot(1)"
   ]
  },
  {
   "cell_type": "markdown",
   "metadata": {},
   "source": [
    "As we see here, in the above plot, the model was trained on moving object data where as the ABA had reacted to a Pedestrian's presence and the moving object data is highly non-conclusive as to where the moving object is moving, if at all there is a moving object. Hence we will now try to train the model considering all 12 columns (4 corrosponding to ABA's reaction, Moving Object, Stationary object and Pedestrian each)"
   ]
  },
  {
   "cell_type": "code",
   "execution_count": 11,
   "metadata": {
    "deletable": false,
    "editable": false,
    "run_control": {
     "frozen": true
    }
   },
   "outputs": [
    {
     "name": "stderr",
     "output_type": "stream",
     "text": [
      "/home/sufiyan/MTP/code/Notebooks/scripts/dataset.py:209: DtypeWarning: Columns (2376,2504) have mixed types. Specify dtype option on import or set low_memory=False.\n",
      "  if preload: self.data = [SingleCSV.fromCSV(self.files[i], **self.kwargs).data for i in range(self.__len__())]\n"
     ]
    }
   ],
   "source": [
    "full_data=CSVData.fromCSVFolder(\"/home/sufiyan/data/Daimler/100_vids/csv/\")\n",
    "with open(\"/home/sufiyan/data/Daimler/100_vids/pickled_CSVData_160_csv_18Feb\", 'wb') as f:\n",
    "    pickle.dump(full_data, f)"
   ]
  },
  {
   "cell_type": "code",
   "execution_count": 11,
   "metadata": {},
   "outputs": [],
   "source": [
    "with open(\"/home/sufiyan/data/Daimler/100_vids/pickled_CSVData_160_csv_18Feb\", 'rb') as f:\n",
    "    full_data=pickle.load(f)"
   ]
  },
  {
   "cell_type": "code",
   "execution_count": 12,
   "metadata": {},
   "outputs": [
    {
     "name": "stderr",
     "output_type": "stream",
     "text": [
      "/home/sufiyan/anaconda3/envs/fastai/lib/python3.6/site-packages/ipykernel_launcher.py:1: DtypeWarning: Columns (2376,2504) have mixed types. Specify dtype option on import or set low_memory=False.\n",
      "  \"\"\"Entry point for launching an IPython kernel.\n"
     ]
    },
    {
     "name": "stdout",
     "output_type": "stream",
     "text": [
      "Reason for Braking:  Pedestrian A\n"
     ]
    },
    {
     "data": {
      "image/png": "[encoded data removed]",
      "text/plain": [
       "<Figure size 432x288 with 4 Axes>"
      ]
     },
     "metadata": {},
     "output_type": "display_data"
    },
    {
     "data": {
      "image/png": "[encoded data removed]",
      "text/plain": [
       "<Figure size 432x288 with 4 Axes>"
      ]
     },
     "metadata": {},
     "output_type": "display_data"
    },
    {
     "data": {
      "image/png": "[encoded data removed]",
      "text/plain": [
       "<Figure size 432x288 with 4 Axes>"
      ]
     },
     "metadata": {},
     "output_type": "display_data"
    },
    {
     "data": {
      "image/png": "[encoded data removed]",
      "text/plain": [
       "<Figure size 432x288 with 4 Axes>"
      ]
     },
     "metadata": {},
     "output_type": "display_data"
    }
   ],
   "source": [
    "full_data.plot(1)"
   ]
  },
  {
   "cell_type": "markdown",
   "metadata": {},
   "source": [
    "When we use the full data i.e., [scripts/dataset.CSVData](https://github.com/dumbPy/MTP/blob/3d9ca8ab8b395ae1592e49f38cc503bb5fafedf4/scripts/dataset.py#L203), we see that for the same file, we get all the columns and we hope the simple model defined above might be able to detect **Other (2)** class better."
   ]
  },
  {
   "cell_type": "markdown",
   "metadata": {},
   "source": [
    "Let's try to train the model with full  data and see how the model reacts to it"
   ]
  },
  {
   "cell_type": "code",
   "execution_count": 13,
   "metadata": {},
   "outputs": [],
   "source": [
    "trainLoader=torch.utils.data.DataLoader([(x,y) for i,(x,y) in enumerate(full_data) if not i in testFiles])\n",
    "testLoader=torch.utils.data.DataLoader([(x,y) for i,(x,y) in enumerate(full_data) if i in testFiles])"
   ]
  },
  {
   "cell_type": "code",
   "execution_count": 14,
   "metadata": {},
   "outputs": [],
   "source": [
    "learner_3=ParallelLearner([\n",
    "                ModelLearner(CSVmodel(input_size=16, hidden_size=20), \n",
    "                             lr=0.001, loss_fn=torch.nn.MSELoss, \n",
    "                             optim=torch.optim.SGD, modelName='CSVModel_full_data_1' ),\n",
    "                ModelLearner(CSVmodel(input_size=16, hidden_size=20), \n",
    "                             lr=0.001, loss_fn=torch.nn.CrossEntropyLoss, \n",
    "                             optim=torch.optim.SGD, modelName='CSVModel_full_data_2' ),\n",
    "                ModelLearner(CSVmodel(input_size=16, hidden_size=20), \n",
    "                              lr=0.001, loss_fn=partial(weightedMSE, [1,1,2]), \n",
    "                              optim=torch.optim.SGD, modelName='CSVModel_full_data_3' ),\n",
    "                ModelLearner(CSVmodel(input_size=16, hidden_size=20), \n",
    "                             lr=0.001, loss_fn=partial(weightedMSE, [1,1,5]), \n",
    "                             optim=torch.optim.SGD, modelName='CSVModel_full_data_4' )],\n",
    "        epochs=100, trainLoader=trainLoader, printEvery=102, validLoader=testLoader)"
   ]
  },
  {
   "cell_type": "code",
   "execution_count": 15,
   "metadata": {},
   "outputs": [
    {
     "data": {
      "application/vnd.jupyter.widget-view+json": {
       "model_id": "284a031869db41519e74245d2eef6afe",
       "version_major": 2,
       "version_minor": 0
      },
      "text/plain": [
       "HBox(children=(IntProgress(value=0), HTML(value='')))"
      ]
     },
     "metadata": {},
     "output_type": "display_data"
    },
    {
     "name": "stderr",
     "output_type": "stream",
     "text": [
      "                                                                                "
     ]
    },
    {
     "name": "stdout",
     "output_type": "stream",
     "text": [
      "\n"
     ]
    },
    {
     "name": "stderr",
     "output_type": "stream",
     "text": [
      "\r"
     ]
    }
   ],
   "source": [
    "learner_3.train(epochs=100)"
   ]
  },
  {
   "cell_type": "code",
   "execution_count": 18,
   "metadata": {},
   "outputs": [
    {
     "data": {
      "image/png": "[encoded data removed]",
      "text/plain": [
       "<Figure size 432x288 with 1 Axes>"
      ]
     },
     "metadata": {},
     "output_type": "display_data"
    }
   ],
   "source": [
    "learner_3.plotLoss(\"Loss\", [\"MSE_train\", \"CE_train\", \"wMSE1_train, \",\"wMSE2_train\"], [\"MSE_test\", \"CE_test\", \"wMSE1_test\", \"wMSE2_test\"])"
   ]
  },
  {
   "cell_type": "markdown",
   "metadata": {},
   "source": [
    "Plotting Confusion Matrix on train data"
   ]
  },
  {
   "cell_type": "code",
   "execution_count": 20,
   "metadata": {},
   "outputs": [
    {
     "name": "stdout",
     "output_type": "stream",
     "text": [
      "MSE\n",
      "[[45  6  0]\n",
      " [19 30  0]\n",
      " [25  7  0]]\n",
      "CE\n",
      "[[42  9  0]\n",
      " [15 34  0]\n",
      " [30  2  0]]\n",
      "wMSE_1:1:2\n",
      "[[35 16  0]\n",
      " [28 21  0]\n",
      " [23  9  0]]\n",
      "wMSE_1:1:5\n",
      "[[41 10  0]\n",
      " [20 29  0]\n",
      " [27  1  4]]\n"
     ]
    }
   ],
   "source": [
    "print(\"MSE\"); print(learner_3.learners[0].train_confusion_matrix_list[-1])\n",
    "print(\"CE\"); print(learner_3.learners[1].train_confusion_matrix_list[-1])\n",
    "print(\"wMSE_1:1:2\"); print(learner_3.learners[2].train_confusion_matrix_list[-1])\n",
    "print(\"wMSE_1:1:5\"); print(learner_3.learners[3].train_confusion_matrix_list[-1])"
   ]
  },
  {
   "cell_type": "markdown",
   "metadata": {},
   "source": [
    "Plotting Confusion Matrix on validation/test data"
   ]
  },
  {
   "cell_type": "code",
   "execution_count": 19,
   "metadata": {},
   "outputs": [
    {
     "name": "stdout",
     "output_type": "stream",
     "text": [
      "MSE\n",
      "[[ 2  8  0]\n",
      " [ 1 11  0]\n",
      " [ 5  2  0]]\n",
      "CE\n",
      "[[ 7  3  0]\n",
      " [ 2 10  0]\n",
      " [ 4  3  0]]\n",
      "wMSE_1:1:2\n",
      "[[3 7 0]\n",
      " [8 4 0]\n",
      " [3 4 0]]\n",
      "wMSE_1:1:5\n",
      "[[6 4 0]\n",
      " [3 9 0]\n",
      " [7 0 0]]\n"
     ]
    }
   ],
   "source": [
    "print(\"MSE\"); print(learner_3.learners[0].valid_confusion_matrix_list[-1])\n",
    "print(\"CE\"); print(learner_3.learners[1].valid_confusion_matrix_list[-1])\n",
    "print(\"wMSE_1:1:2\"); print(learner_3.learners[2].valid_confusion_matrix_list[-1])\n",
    "print(\"wMSE_1:1:5\"); print(learner_3.learners[3].valid_confusion_matrix_list[-1])"
   ]
  },
  {
   "cell_type": "markdown",
   "metadata": {},
   "source": [
    "#### The model output after training with full 16 columns is still non-conclusive."
   ]
  }
 ],
 "metadata": {
  "kernelspec": {
   "display_name": "Python 3",
   "language": "python",
   "name": "python3"
  },
  "language_info": {
   "codemirror_mode": {
    "name": "ipython",
    "version": 3
   },
   "file_extension": ".py",
   "mimetype": "text/x-python",
   "name": "python",
   "nbconvert_exporter": "python",
   "pygments_lexer": "ipython3",
   "version": "3.6.5"
  }
 },
 "nbformat": 4,
 "nbformat_minor": 2
}
