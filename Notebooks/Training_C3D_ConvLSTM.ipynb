{
 "cells": [
  {
   "cell_type": "code",
   "execution_count": 1,
   "metadata": {},
   "outputs": [],
   "source": [
    "%reload_ext autoreload\n",
    "%autoreload 2\n",
    "%matplotlib inline"
   ]
  },
  {
   "cell_type": "code",
   "execution_count": 10,
   "metadata": {},
   "outputs": [],
   "source": [
    "import numpy as np, os\n",
    "from scripts.core import *\n",
    "from fastai.learner import Learner\n",
    "import fastai\n",
    "from torch.utils.data import Dataset\n",
    "from scripts.models import *\n",
    "from scripts.learners import modelLearner, ParallelLearner\n",
    "from scripts.loss import weightedMSE\n",
    "from functools import partial\n",
    "import matplotlib.pyplot as plt"
   ]
  },
  {
   "cell_type": "code",
   "execution_count": 3,
   "metadata": {},
   "outputs": [],
   "source": [
    "class Vid100Datasat(Dataset):\n",
    "    def __init__(self, train=True, trim_start=50, trim_end=50):\n",
    "        super().__init__()\n",
    "        import random\n",
    "        self.train=train\n",
    "        self.trim_start,self.trim_end = trim_start,trim_end\n",
    "        PTH = '/home/sufiyan/Common_data/mtp2/makeDataset/Sub Video/data/Mercedes_224_224_Manual_annonate_8sec_LSTM_short_005_'\n",
    "        PTH_L=os.path.join(PTH,\"LEFT\")\n",
    "        PTH_R=os.path.join(PTH,\"RIGHT\")\n",
    "        PTH_C=os.path.join(PTH,\"CLEAR\")\n",
    "        left_vids =[os.path.join(d,f) for d,_,fs in os.walk(PTH_L) for f in fs if f.split(\".\")[-1]=='npy']\n",
    "        right_vids=[os.path.join(d,f) for d,_,fs in os.walk(PTH_R) for f in fs if f.split(\".\")[-1]=='npy']\n",
    "        clear_vids=[os.path.join(d,f) for d,_,fs in os.walk(PTH_C) for f in fs if f.split(\".\")[-1]=='npy']\n",
    "        self.fileNames=left_vids+right_vids\n",
    "        self.fileNames=[filename for filename in self.fileNames if self.get_label(filename)[100]!=\"CLEAR\"]\n",
    "        np.random.shuffle(self.fileNames)\n",
    "     \n",
    "    @staticmethod\n",
    "    def stoi(label):\n",
    "        stoi={\"CLEAR\":0, \"LEFT\":1, \"RIGHT\":2}\n",
    "        return stoi[label]\n",
    "    \n",
    "    def __getitem__(self,i):\n",
    "        X=np.load(self.fileNames[i])[self.trim_start:-self.trim_end]\n",
    "        y=self.get_label(self.fileNames[i])[self.trim_start:-self.trim_end]\n",
    "        y=np.asarray([self.stoi(label) for label in y])\n",
    "        X=np.expand_dims(X,1)\n",
    "        X=np.concatenate((X,X,X), axis=1)\n",
    "        return (torch.from_numpy(X), y)\n",
    "    def __len__(self): return len(self.fileNames)\n",
    "    \n",
    "    def get_label(self, filename):\n",
    "#         filename=self.fileNames[i]\n",
    "        if self.train:\n",
    "              return np.load(filename.replace('/data/','/label/'))\n",
    "        else: return np.load(filename.replace('/data/','/val_label/'))"
   ]
  },
  {
   "cell_type": "code",
   "execution_count": null,
   "metadata": {},
   "outputs": [],
   "source": []
  },
  {
   "cell_type": "code",
   "execution_count": 4,
   "metadata": {},
   "outputs": [],
   "source": [
    "trainLoader=torch.utils.data.DataLoader(Vid100Datasat(train=True) ,batch_size=1, shuffle=True)\n",
    "validLoader=torch.utils.data.DataLoader(Vid100Datasat(train=False),batch_size=1, shuffle=True)"
   ]
  },
  {
   "cell_type": "code",
   "execution_count": 5,
   "metadata": {},
   "outputs": [],
   "source": [
    "learner=ParallelLearner([modelLearner(C3D_resnet_ConvLSTM2D(3, 3), loss_fn=partial(weightedMSE, [0,1,1]), optim=torch.optim.SGD, modelName=\"MSE_22Oct\", lr=0.01, is_depth=True)], trainLoader=trainLoader, validLoader=validLoader, printEvery=100)"
   ]
  },
  {
   "cell_type": "code",
   "execution_count": 6,
   "metadata": {},
   "outputs": [
    {
     "name": "stderr",
     "output_type": "stream",
     "text": [
      "Avg Loss: 0.1105890494178642: 100%|██████████| 132/132 [01:36<00:00,  1.37it/s] \n",
      "Avg Loss: 0.10440688921759526: 100%|██████████| 132/132 [01:34<00:00,  1.40it/s]\n",
      "Avg Loss: 0.10333929727361961: 100%|██████████| 132/132 [01:34<00:00,  1.40it/s]\n",
      "Avg Loss: 0.10295985562896187: 100%|██████████| 132/132 [01:34<00:00,  1.40it/s]\n",
      "Avg Loss: 0.10236523955157309: 100%|██████████| 132/132 [01:34<00:00,  1.40it/s]\n",
      "Avg Loss: 0.10194345964401057: 100%|██████████| 132/132 [01:34<00:00,  1.40it/s]\n",
      "Avg Loss: 0.10173066637732765: 100%|██████████| 132/132 [01:34<00:00,  1.40it/s]\n",
      "Avg Loss: 0.10128212858443007: 100%|██████████| 132/132 [01:34<00:00,  1.40it/s]\n",
      "Avg Loss: 0.10098887573588979: 100%|██████████| 132/132 [01:34<00:00,  1.40it/s]\n",
      "Avg Loss: 0.10063496517073928: 100%|██████████| 132/132 [01:34<00:00,  1.39it/s]\n",
      "Avg Loss: 0.10014392204131141: 100%|██████████| 132/132 [01:34<00:00,  1.40it/s]\n",
      "Avg Loss: 0.09992780590034796: 100%|██████████| 132/132 [01:34<00:00,  1.40it/s]\n",
      "Avg Loss: 0.09964149882734726: 100%|██████████| 132/132 [01:34<00:00,  1.40it/s]\n",
      "Avg Loss: 0.0996611960740252: 100%|██████████| 132/132 [01:34<00:00,  1.40it/s] \n",
      "Avg Loss: 0.0993411581342419: 100%|██████████| 132/132 [01:34<00:00,  1.40it/s] \n",
      "Avg Loss: 0.09898469822876381: 100%|██████████| 132/132 [01:34<00:00,  1.40it/s]\n",
      "Avg Loss: 0.09830331252041188: 100%|██████████| 132/132 [01:34<00:00,  1.39it/s]\n",
      "Avg Loss: 0.09806531221803391: 100%|██████████| 132/132 [01:35<00:00,  1.39it/s]\n",
      "Avg Loss: 0.0976061692574259: 100%|██████████| 132/132 [01:34<00:00,  1.39it/s] \n",
      "Avg Loss: 0.09755114355886524: 100%|██████████| 132/132 [01:34<00:00,  1.39it/s]\n"
     ]
    }
   ],
   "source": [
    "learner.train(epochs=20)"
   ]
  },
  {
   "cell_type": "code",
   "execution_count": 7,
   "metadata": {},
   "outputs": [
    {
     "name": "stderr",
     "output_type": "stream",
     "text": [
      "Avg Loss: 0.09730659092240261: 100%|██████████| 132/132 [01:34<00:00,  1.39it/s]\n",
      "Avg Loss: 0.09751628754152493: 100%|██████████| 132/132 [01:34<00:00,  1.39it/s]\n",
      "Avg Loss: 0.09619259202119076: 100%|██████████| 132/132 [01:34<00:00,  1.40it/s]\n",
      "Avg Loss: 0.09637844647196206: 100%|██████████| 132/132 [01:34<00:00,  1.40it/s]\n",
      "Avg Loss: 0.09544192229143598: 100%|██████████| 132/132 [01:34<00:00,  1.40it/s]\n",
      "Avg Loss: 0.09557578684479902: 100%|██████████| 132/132 [01:34<00:00,  1.40it/s]\n",
      "Avg Loss: 0.09543212390307224: 100%|██████████| 132/132 [01:34<00:00,  1.40it/s]\n",
      "Avg Loss: 0.09532247139423182: 100%|██████████| 132/132 [01:34<00:00,  1.39it/s]\n",
      "Avg Loss: 0.0952265654605898: 100%|██████████| 132/132 [01:34<00:00,  1.40it/s] \n",
      "Avg Loss: 0.0957657616077499: 100%|██████████| 132/132 [01:34<00:00,  1.40it/s] \n"
     ]
    }
   ],
   "source": [
    "learner.lr=0.001\n",
    "learner.train(10)"
   ]
  },
  {
   "cell_type": "code",
   "execution_count": 18,
   "metadata": {},
   "outputs": [],
   "source": [
    "l=learner.learners[0]"
   ]
  },
  {
   "cell_type": "markdown",
   "metadata": {},
   "source": [
    "#### Plotting Confussion Matrix"
   ]
  },
  {
   "cell_type": "code",
   "execution_count": 21,
   "metadata": {},
   "outputs": [
    {
     "name": "stdout",
     "output_type": "stream",
     "text": [
      "[[  37 5478 2617]\n",
      " [   0 1674  860]\n",
      " [   0 1782  752]]\n",
      "\n",
      "[[   0 6306 1826]\n",
      " [   0 2534    0]\n",
      " [   0 1304 1230]]\n"
     ]
    }
   ],
   "source": [
    "print(l.train_confusion_matrix_list[-1])\n",
    "print()\n",
    "print(l.valid_confusion_matrix_list[-1])"
   ]
  },
  {
   "cell_type": "code",
   "execution_count": 22,
   "metadata": {},
   "outputs": [
    {
     "data": {
      "text/plain": [
       "<matplotlib.image.AxesImage at 0x7f646352add8>"
      ]
     },
     "execution_count": 22,
     "metadata": {},
     "output_type": "execute_result"
    },
    {
     "data": {
      "image/png": "[encoded data removed]",
      "text/plain": [
       "<Figure size 288x288 with 1 Axes>"
      ]
     },
     "metadata": {},
     "output_type": "display_data"
    },
    {
     "data": {
      "image/png": "[encoded data removed]",
      "text/plain": [
       "<Figure size 288x288 with 1 Axes>"
      ]
     },
     "metadata": {},
     "output_type": "display_data"
    }
   ],
   "source": [
    "plt.matshow(l.valid_confusion_matrix_list[-1])\n",
    "plt.matshow(l.train_confusion_matrix_list[-1])"
   ]
  },
  {
   "cell_type": "markdown",
   "metadata": {},
   "source": [
    "#### Losses"
   ]
  },
  {
   "cell_type": "code",
   "execution_count": 16,
   "metadata": {},
   "outputs": [
    {
     "data": {
      "text/plain": [
       "[<matplotlib.lines.Line2D at 0x7f64637ad3c8>]"
      ]
     },
     "execution_count": 16,
     "metadata": {},
     "output_type": "execute_result"
    },
    {
     "data": {
      "image/png": "[encoded data removed]",
      "text/plain": [
       "<Figure size 432x288 with 1 Axes>"
      ]
     },
     "metadata": {},
     "output_type": "display_data"
    }
   ],
   "source": [
    "plt.plot(l.train_loss_list)\n",
    "plt.plot(l.test_loss_list)"
   ]
  },
  {
   "cell_type": "code",
   "execution_count": 62,
   "metadata": {},
   "outputs": [],
   "source": [
    "def compare_output():\n",
    "    for x,y in validLoader:\n",
    "        y=y.squeeze_()\n",
    "        x = x.float().to(device)\n",
    "        y = y.float().to(device)\n",
    "        l.Train=False #setting to eval mode\n",
    "        l.model.eval()\n",
    "        y_pred=l.model(x)\n",
    "        y_pred=y_pred.squeeze_()\n",
    "        print(y.shape)\n",
    "#         y_pred=F.softmax(y_pred)\n",
    "        print(y_pred)\n",
    "        print()\n",
    "        print(y)\n",
    "        yield None\n",
    "    "
   ]
  },
  {
   "cell_type": "code",
   "execution_count": 63,
   "metadata": {},
   "outputs": [],
   "source": [
    "print_compare_output=iter(compare_output())"
   ]
  },
  {
   "cell_type": "markdown",
   "metadata": {},
   "source": [
    "#### The probabilities of 1 and 2 are almost same"
   ]
  },
  {
   "cell_type": "code",
   "execution_count": 64,
   "metadata": {
    "scrolled": false
   },
   "outputs": [
    {
     "name": "stdout",
     "output_type": "stream",
     "text": [
      "torch.Size([100])\n",
      "tensor([[-0.0066,  0.1964,  0.1887],\n",
      "        [-0.0066,  0.1964,  0.1887],\n",
      "        [-0.0066,  0.1964,  0.1887],\n",
      "        [-0.0066,  0.1964,  0.1887],\n",
      "        [-0.0097,  0.1643,  0.2203],\n",
      "        [-0.0111,  0.1592,  0.2434],\n",
      "        [-0.0066,  0.1964,  0.1887],\n",
      "        [-0.0165,  0.1608,  0.2846],\n",
      "        [-0.0066,  0.1964,  0.1887],\n",
      "        [-0.0066,  0.1964,  0.1887],\n",
      "        [-0.0066,  0.1964,  0.1887],\n",
      "        [-0.0066,  0.1964,  0.1887],\n",
      "        [-0.0066,  0.1964,  0.1887],\n",
      "        [-0.0292,  0.1815,  0.3479],\n",
      "        [-0.0289,  0.1830,  0.3568],\n",
      "        [-0.0066,  0.1964,  0.1887],\n",
      "        [-0.0262,  0.1899,  0.3697],\n",
      "        [-0.0066,  0.1964,  0.1887],\n",
      "        [-0.0066,  0.1964,  0.1887],\n",
      "        [-0.0253,  0.1992,  0.3668],\n",
      "        [-0.0261,  0.2023,  0.3697],\n",
      "        [-0.0066,  0.1964,  0.1887],\n",
      "        [-0.0254,  0.1999,  0.3679],\n",
      "        [-0.0228,  0.1973,  0.3683],\n",
      "        [-0.0066,  0.1964,  0.1887],\n",
      "        [-0.0066,  0.1964,  0.1887],\n",
      "        [-0.0204,  0.1882,  0.3647],\n",
      "        [-0.0204,  0.1916,  0.3587],\n",
      "        [-0.0215,  0.1928,  0.3522],\n",
      "        [-0.0066,  0.1964,  0.1887],\n",
      "        [-0.0196,  0.1854,  0.3432],\n",
      "        [-0.0211,  0.1863,  0.3421],\n",
      "        [-0.0218,  0.1865,  0.3433],\n",
      "        [-0.0066,  0.1964,  0.1887],\n",
      "        [-0.0258,  0.1791,  0.3386],\n",
      "        [-0.0298,  0.1719,  0.3373],\n",
      "        [-0.0066,  0.1964,  0.1887],\n",
      "        [-0.0322,  0.1551,  0.3288],\n",
      "        [-0.0331,  0.1497,  0.3249],\n",
      "        [-0.0338,  0.1451,  0.3243],\n",
      "        [-0.0066,  0.1964,  0.1887],\n",
      "        [-0.0066,  0.1964,  0.1887],\n",
      "        [-0.0066,  0.1964,  0.1887],\n",
      "        [-0.0298,  0.1290,  0.3048],\n",
      "        [-0.0288,  0.1237,  0.2995],\n",
      "        [-0.0316,  0.1204,  0.2923],\n",
      "        [-0.0066,  0.1964,  0.1887],\n",
      "        [-0.0338,  0.1222,  0.2747],\n",
      "        [-0.0066,  0.1964,  0.1887],\n",
      "        [-0.0066,  0.1964,  0.1887],\n",
      "        [-0.0360,  0.1285,  0.2522],\n",
      "        [-0.0402,  0.1286,  0.2425],\n",
      "        [-0.0436,  0.1259,  0.2330],\n",
      "        [-0.0451,  0.1267,  0.2217],\n",
      "        [-0.0066,  0.1964,  0.1887],\n",
      "        [-0.0066,  0.1964,  0.1887],\n",
      "        [-0.0546,  0.1229,  0.1943],\n",
      "        [-0.0066,  0.1964,  0.1887],\n",
      "        [-0.0574,  0.1139,  0.1872],\n",
      "        [-0.0571,  0.1093,  0.1830],\n",
      "        [-0.0552,  0.1064,  0.1812],\n",
      "        [-0.0066,  0.1964,  0.1887],\n",
      "        [-0.0510,  0.1153,  0.1785],\n",
      "        [-0.0066,  0.1964,  0.1887],\n",
      "        [-0.0482,  0.1136,  0.1813],\n",
      "        [-0.0499,  0.1144,  0.1792],\n",
      "        [-0.0491,  0.1165,  0.1797],\n",
      "        [-0.0066,  0.1964,  0.1887],\n",
      "        [-0.0384,  0.1254,  0.1727],\n",
      "        [-0.0066,  0.1964,  0.1887],\n",
      "        [-0.0327,  0.1290,  0.1643],\n",
      "        [-0.0066,  0.1964,  0.1887],\n",
      "        [-0.0288,  0.1276,  0.1570],\n",
      "        [-0.0297,  0.1250,  0.1554],\n",
      "        [-0.0295,  0.1252,  0.1503],\n",
      "        [-0.0066,  0.1964,  0.1887],\n",
      "        [-0.0280,  0.1206,  0.1520],\n",
      "        [-0.0292,  0.1193,  0.1524],\n",
      "        [-0.0289,  0.1215,  0.1550],\n",
      "        [-0.0270,  0.1219,  0.1568],\n",
      "        [-0.0066,  0.1964,  0.1887],\n",
      "        [-0.0275,  0.1147,  0.1675],\n",
      "        [-0.0066,  0.1964,  0.1887],\n",
      "        [-0.0251,  0.1087,  0.1787],\n",
      "        [-0.0066,  0.1964,  0.1887],\n",
      "        [-0.0066,  0.1964,  0.1887],\n",
      "        [-0.0066,  0.1964,  0.1887],\n",
      "        [-0.0066,  0.1964,  0.1887],\n",
      "        [-0.0066,  0.1964,  0.1887],\n",
      "        [-0.0066,  0.1964,  0.1887],\n",
      "        [-0.0066,  0.1964,  0.1887],\n",
      "        [-0.0066,  0.1964,  0.1887],\n",
      "        [-0.0066,  0.1964,  0.1887],\n",
      "        [-0.0447,  0.0925,  0.1883],\n",
      "        [-0.0066,  0.1964,  0.1887],\n",
      "        [-0.0066,  0.1964,  0.1887],\n",
      "        [-0.0066,  0.1964,  0.1887],\n",
      "        [-0.0066,  0.1964,  0.1887],\n",
      "        [-0.0066,  0.1964,  0.1887],\n",
      "        [-0.0066,  0.1964,  0.1887]],\n",
      "       device='cuda:0', grad_fn=<SqueezeBackward2>)\n",
      "\n",
      "tensor([2., 2., 2., 2., 2., 2., 2., 2., 2., 2., 2., 2., 2., 2., 2., 2., 2., 2.,\n",
      "        2., 2., 2., 2., 2., 2., 2., 2., 2., 2., 2., 2., 2., 2., 2., 2., 2., 2.,\n",
      "        2., 2., 2., 2., 2., 2., 2., 2., 2., 2., 2., 2., 2., 2., 2., 2., 2., 2.,\n",
      "        0., 0., 0., 0., 0., 0., 0., 0., 0., 0., 0., 0., 0., 0., 0., 0., 0., 0.,\n",
      "        0., 0., 0., 0., 0., 0., 0., 0., 0., 0., 0., 0., 0., 0., 0., 0., 0., 0.,\n",
      "        0., 0., 0., 0., 0., 0., 0., 0., 0., 0.], device='cuda:0')\n"
     ]
    }
   ],
   "source": [
    "next(print_compare_output)"
   ]
  },
  {
   "cell_type": "markdown",
   "metadata": {},
   "source": []
  }
 ],
 "metadata": {
  "kernelspec": {
   "display_name": "Python 3",
   "language": "python",
   "name": "python3"
  },
  "language_info": {
   "codemirror_mode": {
    "name": "ipython",
    "version": 3
   },
   "file_extension": ".py",
   "mimetype": "text/x-python",
   "name": "python",
   "nbconvert_exporter": "python",
   "pygments_lexer": "ipython3",
   "version": "3.6.5"
  }
 },
 "nbformat": 4,
 "nbformat_minor": 2
}
