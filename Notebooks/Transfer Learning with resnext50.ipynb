{
 "cells": [
  {
   "cell_type": "code",
   "execution_count": 56,
   "metadata": {},
   "outputs": [],
   "source": [
    "%reload_ext autoreload\n",
    "%autoreload 2\n",
    "%matplotlib inline"
   ]
  },
  {
   "cell_type": "code",
   "execution_count": 57,
   "metadata": {},
   "outputs": [],
   "source": [
    "import torch, torch.nn as nn, torch.functional as F, torch.utils.data as data, torchnet as tnt\n",
    "import torchvision, numpy as np, os\n",
    "import matplotlib.pyplot as plt, fastai\n",
    "from fastai.conv_learner import ConvnetBuilder\n",
    "from fastai.model import resnext50, resnet34\n",
    "from fastai.dataset import BaseDataset\n",
    "import nvvl, time\n",
    "import sys, os\n",
    "from tqdm import tqdm\n",
    "from fastai.metrics import accuracy\n",
    "from torch.utils.data import WeightedRandomSampler\n",
    "import random"
   ]
  },
  {
   "cell_type": "code",
   "execution_count": 58,
   "metadata": {},
   "outputs": [],
   "source": [
    "#Adding layer.freeze and layer.unfreeze capability to nn.Module layers\n",
    "\n",
    "def freeze(self):\n",
    "    for param in self.parameters(): param.requires_grad=False\n",
    "def unfreeze(self):\n",
    "    for param in self.parameters(): param.requires_grad=True\n",
    "\n",
    "nn.Module.freeze=freeze\n",
    "nn.Module.unfreeze=unfreeze"
   ]
  },
  {
   "cell_type": "code",
   "execution_count": 4,
   "metadata": {},
   "outputs": [
    {
     "data": {
      "text/plain": [
       "device(type='cuda', index=0)"
      ]
     },
     "execution_count": 4,
     "metadata": {},
     "output_type": "execute_result"
    }
   ],
   "source": [
    "device=torch.device(\"cuda:0\" if torch.cuda.is_available() else \"cpu\"); device"
   ]
  },
  {
   "cell_type": "code",
   "execution_count": 5,
   "metadata": {},
   "outputs": [],
   "source": [
    "PATH=\"/home/sufiyan/Common_data/mtp2/dataset/OLD/100_vids/\"\n",
    "PATH_L_Vids=PATH+\"LEFT/\"\n",
    "PATH_L=PATH+\"LEFT_data/\"\n",
    "PATH_L_L=PATH+\"LEFT_labels/\"\n",
    "PATH_R_Vids=PATH+\"RIGHT/\"\n",
    "PATH_R=PATH+\"RIGHT_data/\"\n",
    "PATH_R_L=PATH+\"RIGHT_labels/\""
   ]
  },
  {
   "cell_type": "code",
   "execution_count": 6,
   "metadata": {},
   "outputs": [],
   "source": [
    "#string_to_int and int_to_string mapping\n",
    "stoi={\"w\":0, \"a\":1, \"d\":2}; itos={0:\"Clear\", 1:\"Left\", 2:\"Right\"}"
   ]
  },
  {
   "cell_type": "code",
   "execution_count": 7,
   "metadata": {},
   "outputs": [
    {
     "data": {
      "text/plain": [
       "[0, 1, 2]"
      ]
     },
     "execution_count": 7,
     "metadata": {},
     "output_type": "execute_result"
    }
   ],
   "source": [
    "[stoi[key] for key in [\"w\", \"a\", \"d\"]]"
   ]
  },
  {
   "cell_type": "code",
   "execution_count": 8,
   "metadata": {},
   "outputs": [],
   "source": [
    "def getLabelFileName(vidFileName):\n",
    "    \"\"\"Parse the labelFileName for a given videoFileName\"\"\"\n",
    "    vidName=vidFileName.split(\"/\")[-1]\n",
    "    labelName=\".\".join(vidName.split(\".\")[:-1]+[\"npy\"])\n",
    "    if vidFileName.split(\"/\")[-2]==\"RIGHT_data\":\n",
    "        labelFileName=PATH_R_L+labelName\n",
    "    elif vidFileName.split(\"/\")[-2]==\"LEFT_data\":\n",
    "        labelFileName=PATH_L_L+labelName\n",
    "    else: raise ValueError(f\"Passed videoFile {vidFileName} has non recognizable parent folder\")\n",
    "    return labelFileName\n",
    "\n",
    "def get_label(vidFileName, frame_num, _=None):\n",
    "        labelFileName=getLabelFileName(vidFileName)\n",
    "        labels=np.load(labelFileName)\n",
    "        try: return stoi[labels[frame_num]]\n",
    "        except: return stoi[labels[-1]]"
   ]
  },
  {
   "cell_type": "code",
   "execution_count": 9,
   "metadata": {},
   "outputs": [],
   "source": [
    "#redundent class as weighted Random Sampler was used below\n",
    "class frameSampler(torch.utils.data.Sampler):\n",
    "    def __init__(self, data_source, fps=3, source_fps=25):\n",
    "        self.fps=fps\n",
    "        self.data_source = data_source\n",
    "        \n",
    "    def __iter__(self):\n",
    "        samples=[num for num in self.data_source if (num%(self.fps+np.random.randint(-2,3))==0)] \n",
    "        np.random.shuffle(samples)\n",
    "        return iter(samples)\n",
    "\n",
    "    def __len__(self):\n",
    "        return len(self.data_source)"
   ]
  },
  {
   "cell_type": "code",
   "execution_count": 10,
   "metadata": {},
   "outputs": [],
   "source": [
    "class oneVidDataset(BaseDataset):\n",
    "    def __init__(self, fileName, get_label=None):\n",
    "        self.fileName=fileName\n",
    "        self.get_label=get_label\n",
    "    \n",
    "    def __getitem__(self,idx):\n",
    "        #skipping the first and last 125 frames.\n",
    "        idx+=125\n",
    "        x=np.load(self.fileName)[idx]\n",
    "        x=np.squeeze(x)     #extra 1 dimention removed if any\n",
    "        if len(x.shape)==2 : x=np.dstack((x,x,x)) #id image is 1 channel, make it 3 channel\n",
    "        x=np.rollaxis(x, 2)   #Make the images channel first\n",
    "        x=x[:,:224,:224].astype(\"float32\")\n",
    "        return (x, self.get_label(self.fileName, idx))\n",
    "    \n",
    "    def get_y(self, idx):\n",
    "        return self.get_label(self.fileName, idx+125)\n",
    "    \n",
    "    def __len__(self):\n",
    "        return len(np.load(self.fileName))-250 #skiping first and last 125 frames"
   ]
  },
  {
   "cell_type": "code",
   "execution_count": 11,
   "metadata": {},
   "outputs": [],
   "source": [
    "class ConcatDatasetWithWeights(torch.utils.data.ConcatDataset):\n",
    "    def __init__(self, fileNames):\n",
    "        self.fileNames=fileNames\n",
    "        datasets=[oneVidDataset(fileName, get_label=get_label) for fileName in fileNames]\n",
    "        super().__init__(datasets)\n",
    "    \n",
    "    @staticmethod\n",
    "    def fixLabelLength(labels, dataset):\n",
    "        labels=list(labels)\n",
    "        while len(labels)<len(dataset):\n",
    "            labels+=labels[-1]\n",
    "        while len(labels)>len(dataset):\n",
    "            labels.pop() #remove last extra element\n",
    "        return labels\n",
    "    \n",
    "    def get_y(self, idx):\n",
    "        import bisect\n",
    "        dataset_idx = bisect.bisect_right(self.cumulative_sizes, idx)\n",
    "        if dataset_idx == 0:\n",
    "            sample_idx = idx\n",
    "        else:\n",
    "            sample_idx = idx - self.cumulative_sizes[dataset_idx - 1]\n",
    "        return self.datasets[dataset_idx].get_y(sample_idx)\n",
    "    \n",
    "    def getWeights(self):\n",
    "        allLabels=[self.get_y(i) for i in range(self.__len__())]\n",
    "        classes=set(allLabels)                     #will return all classes\n",
    "        counts = [allLabels.count(someClass) for someClass in classes]\n",
    "        allLabels=[1/counts[label] for label in allLabels] #convert labels to weights as weight=1/count[label]\n",
    "        return allLabels        "
   ]
  },
  {
   "cell_type": "code",
   "execution_count": 12,
   "metadata": {},
   "outputs": [],
   "source": [
    "leftVids =[PATH_L+fileName for fileName in os.listdir(PATH_L) if os.path.isfile(PATH_L+fileName)]\n",
    "rightVids=[PATH_R+fileName for fileName in os.listdir(PATH_R) if os.path.isfile(PATH_R+fileName)]\n",
    "trainVids=leftVids[:55]+rightVids[:55]\n",
    "validVids=leftVids[55:]+rightVids[55:]"
   ]
  },
  {
   "cell_type": "code",
   "execution_count": 13,
   "metadata": {},
   "outputs": [],
   "source": [
    "trainDataset=ConcatDatasetWithWeights(trainVids)\n",
    "validDataset=ConcatDatasetWithWeights(validVids)"
   ]
  },
  {
   "cell_type": "code",
   "execution_count": 305,
   "metadata": {
    "deletable": false,
    "editable": false,
    "run_control": {
     "frozen": true
    }
   },
   "outputs": [
    {
     "data": {
      "text/plain": [
       "25918"
      ]
     },
     "execution_count": 305,
     "metadata": {},
     "output_type": "execute_result"
    }
   ],
   "source": [
    "len(trainDataset)"
   ]
  },
  {
   "cell_type": "code",
   "execution_count": 111,
   "metadata": {
    "deletable": false,
    "editable": false,
    "run_control": {
     "frozen": true
    }
   },
   "outputs": [],
   "source": [
    "train_weights=trainDataset.getWeights()\n",
    "train_weights=np.asarray(train_weights)\n",
    "valid_weights=validDataset.getWeights()\n",
    "valid_weights=np.asarray(valid_weights)\n",
    "weights=np.asarray([train_weights, valid_weights])\n",
    "np.save(\"./tmp/WeightedRandomSamplers_Weights_13Oct\", weights)"
   ]
  },
  {
   "cell_type": "code",
   "execution_count": 81,
   "metadata": {
    "deletable": false,
    "editable": false,
    "run_control": {
     "frozen": true
    },
    "scrolled": true
   },
   "outputs": [
    {
     "name": "stdout",
     "output_type": "stream",
     "text": [
      "Total Weights: 25918\n",
      "Unique Weights: {3.9912193175014965e-05, 0.002331002331002331, 0.002304147465437788}\n"
     ]
    }
   ],
   "source": [
    "print(f\"Total Weights: {len(weights)}\")\n",
    "#Weights for Clear, Left and Right Respectively.\n",
    "print(f\"Unique Weights: {set(weights)}\")"
   ]
  },
  {
   "cell_type": "code",
   "execution_count": 14,
   "metadata": {},
   "outputs": [],
   "source": [
    "train_weights, valid_weights=np.load(\"./tmp/WeightedRandomSamplers_Weights_13Oct.npy\")"
   ]
  },
  {
   "cell_type": "code",
   "execution_count": 15,
   "metadata": {},
   "outputs": [
    {
     "data": {
      "text/plain": [
       "(25918, 3458)"
      ]
     },
     "execution_count": 15,
     "metadata": {},
     "output_type": "execute_result"
    }
   ],
   "source": [
    "len(train_weights), len(valid_weights)"
   ]
  },
  {
   "cell_type": "code",
   "execution_count": 16,
   "metadata": {},
   "outputs": [],
   "source": [
    "class customWeightedRandomSampler(torch.utils.data.Sampler):\n",
    "    def __init__(self, weights, num_samples, replacement=True):\n",
    "        import random\n",
    "        from torch._six import int_classes as _int_classes\n",
    "        if not isinstance(num_samples, _int_classes) or isinstance(num_samples, bool) or \\\n",
    "                num_samples <= 0:\n",
    "            raise ValueError(\"num_samples should be a positive integeral \"\n",
    "                             \"value, but got num_samples={}\".format(num_samples))\n",
    "        if not isinstance(replacement, bool):\n",
    "            raise ValueError(\"replacement should be a boolean value, but got \"\n",
    "                             \"replacement={}\".format(replacement))\n",
    "        self.weights = weights\n",
    "        self.num_samples = num_samples\n",
    "        self.replacement = replacement        \n",
    "        \n",
    "    def __iter__(self):\n",
    "        return iter(random.choices(list(range(len(self.weights))), weights=self.weights, k=self.num_samples))\n",
    "\n",
    "    def __len__(self):\n",
    "        return self.num_samples"
   ]
  },
  {
   "cell_type": "code",
   "execution_count": 17,
   "metadata": {},
   "outputs": [],
   "source": [
    "trainLoader=torch.utils.data.DataLoader(trainDataset, batch_size=32, sampler=customWeightedRandomSampler(train_weights, len(train_weights)), drop_last=True, num_workers=1)\n",
    "validLoader=torch.utils.data.DataLoader(validDataset, batch_size=32, sampler=customWeightedRandomSampler(valid_weights, len(valid_weights)), drop_last=True, num_workers=1)"
   ]
  },
  {
   "cell_type": "code",
   "execution_count": 18,
   "metadata": {},
   "outputs": [],
   "source": [
    "modelData=fastai.dataset.ModelData(path=\".\", trn_dl=trainLoader, val_dl=validLoader)"
   ]
  },
  {
   "cell_type": "code",
   "execution_count": 19,
   "metadata": {
    "scrolled": true
   },
   "outputs": [],
   "source": [
    "model=ConvnetBuilder(resnext50, c=3, is_multi=False, is_reg=False, pretrained=True)\n",
    "[layer.freeze() for i,layer in enumerate(model.model.children()) if i<12] #freezing pretrained layers\n",
    "[layer.unfreeze() for i,layer in enumerate(model.model.children()) if i>=12] #unfreezing fc layers\n",
    "learner=fastai.learner.Learner(modelData, model, opt_fn=torch.optim.Adam, models_name=\"First_Model\", crit=torch.nn.CrossEntropyLoss(), metrics=[accuracy])"
   ]
  },
  {
   "cell_type": "markdown",
   "metadata": {},
   "source": [
    "Below are the labels even after using `torch.utils.data.WeightedRandomSampler`\n",
    "Hence the need to write my own `customWeightedRandomSampler` class that samples equally from all the classes rather than according to weights as it doesn't help as seen below."
   ]
  },
  {
   "cell_type": "code",
   "execution_count": 34,
   "metadata": {
    "deletable": false,
    "editable": false,
    "run_control": {
     "frozen": true
    }
   },
   "outputs": [
    {
     "name": "stdout",
     "output_type": "stream",
     "text": [
      "tensor([2, 1, 1, 1, 2, 1, 2, 2, 1, 1, 2, 0, 2, 2, 1, 1, 1, 0, 1, 0, 0, 0, 0, 2,\n",
      "        2, 0, 2, 1, 1, 1, 1, 1, 2, 0, 1, 0, 0, 0, 1, 1, 1, 1, 1, 2, 1, 0, 1, 1,\n",
      "        1, 0, 1, 2, 0, 2, 1, 0, 2, 2, 2, 2, 2, 1, 1, 2, 2, 2, 0, 2, 1, 2, 0, 0,\n",
      "        1, 0, 0, 2, 1, 1, 0, 0, 0, 1, 0, 0, 1, 1, 1, 1, 0, 0, 1, 2, 1, 1, 2, 2,\n",
      "        2, 0, 2, 1, 2, 0, 1, 2, 2, 0, 2, 0, 1, 2, 0, 0, 2, 0, 1, 1, 0, 1, 1, 0,\n",
      "        2, 2, 1, 0, 0, 1, 2, 0, 0, 2, 2, 2, 1, 1, 0, 2, 2, 2, 2, 2, 1, 0, 0, 2,\n",
      "        2, 0, 0, 0, 1, 0, 1, 2, 1, 2, 1, 0, 1, 2, 2, 2, 2, 2, 1, 0, 0, 0, 2, 1,\n",
      "        2, 2])\n"
     ]
    }
   ],
   "source": [
    "#Distribution of samples according to Labels\n",
    "for x,y in trainLoader:\n",
    "    print(y)\n",
    "    break"
   ]
  },
  {
   "cell_type": "markdown",
   "metadata": {},
   "source": [
    "A really good sampling technique using the calculated weights would be as below. I really don't understand why PyTorch doesn't uses something similar."
   ]
  },
  {
   "cell_type": "code",
   "execution_count": 37,
   "metadata": {
    "deletable": false,
    "editable": false,
    "run_control": {
     "frozen": true
    }
   },
   "outputs": [
    {
     "data": {
      "text/plain": [
       "(array([0, 1, 2]), array([33, 36, 31]))"
      ]
     },
     "execution_count": 37,
     "metadata": {},
     "output_type": "execute_result"
    }
   ],
   "source": [
    "weight_map={item:i for i,item in enumerate(set(weights))}\n",
    "labels=[weight_map[i] for i in weights]\n",
    "np.unique(random.choices(labels, weights=weights, k=100), return_counts=True)"
   ]
  },
  {
   "cell_type": "code",
   "execution_count": 35,
   "metadata": {
    "deletable": false,
    "editable": false,
    "run_control": {
     "frozen": true
    }
   },
   "outputs": [
    {
     "name": "stdout",
     "output_type": "stream",
     "text": [
      "Linear(in_features=4096, out_features=512, bias=True)\n",
      "BatchNorm1d(512, eps=1e-05, momentum=0.1, affine=True, track_running_stats=True)\n",
      "Linear(in_features=512, out_features=3, bias=True)\n"
     ]
    }
   ],
   "source": [
    "#Learnable Layers\n",
    "for i, layer in enumerate(learner.model.children()):\n",
    "    for param in  layer.parameters():\n",
    "        if param.requires_grad==True:\n",
    "            print(layer)\n",
    "            break"
   ]
  },
  {
   "cell_type": "code",
   "execution_count": 22,
   "metadata": {
    "deletable": false,
    "editable": false,
    "run_control": {
     "frozen": true
    },
    "scrolled": true
   },
   "outputs": [
    {
     "data": {
      "application/vnd.jupyter.widget-view+json": {
       "model_id": "d132b639475c40bab80335dfa2d40a79",
       "version_major": 2,
       "version_minor": 0
      },
      "text/plain": [
       "HBox(children=(IntProgress(value=0, description='Epoch', max=1), HTML(value='')))"
      ]
     },
     "metadata": {},
     "output_type": "display_data"
    },
    {
     "name": "stdout",
     "output_type": "stream",
     "text": [
      " 74%|███████▍  | 113/152 [01:52<00:38,  1.01it/s, loss=5.97]"
     ]
    }
   ],
   "source": [
    "learner.lr_find(start_lr=1e-3)"
   ]
  },
  {
   "cell_type": "code",
   "execution_count": 23,
   "metadata": {
    "deletable": false,
    "editable": false,
    "run_control": {
     "frozen": true
    },
    "scrolled": true
   },
   "outputs": [
    {
     "data": {
      "image/png": "[encoded data removed]",
      "text/plain": [
       "<Figure size 432x288 with 1 Axes>"
      ]
     },
     "metadata": {},
     "output_type": "display_data"
    }
   ],
   "source": [
    "learner.sched.plot()"
   ]
  },
  {
   "cell_type": "code",
   "execution_count": null,
   "metadata": {
    "deletable": false,
    "editable": false,
    "run_control": {
     "frozen": true
    }
   },
   "outputs": [],
   "source": [
    "learner.fit(1e-3, n_cycle=1)"
   ]
  },
  {
   "cell_type": "code",
   "execution_count": 23,
   "metadata": {
    "deletable": false,
    "editable": false,
    "run_control": {
     "frozen": true
    }
   },
   "outputs": [],
   "source": [
    "for i, layer in enumerate(learner.model.children()):\n",
    "    if i>5: layer.unfreeze()\n",
    "    else: layer.freeze()"
   ]
  },
  {
   "cell_type": "code",
   "execution_count": 24,
   "metadata": {
    "deletable": false,
    "editable": false,
    "run_control": {
     "frozen": true
    },
    "scrolled": false
   },
   "outputs": [
    {
     "data": {
      "application/vnd.jupyter.widget-view+json": {
       "model_id": "b4978446ab154fe1af2122c419b0f60f",
       "version_major": 2,
       "version_minor": 0
      },
      "text/plain": [
       "HBox(children=(IntProgress(value=0, description='Epoch', max=2), HTML(value='')))"
      ]
     },
     "metadata": {},
     "output_type": "display_data"
    },
    {
     "name": "stdout",
     "output_type": "stream",
     "text": [
      "epoch      trn_loss   val_loss   accuracy                   \n",
      "    0      1.155459   1.099235   0.327059  \n",
      "    1      1.109083   1.098679   0.334706                   \n",
      "\n"
     ]
    },
    {
     "data": {
      "application/vnd.jupyter.widget-view+json": {
       "model_id": "5ca4dc5a4c1b424fb2bfb54433ea8d2b",
       "version_major": 2,
       "version_minor": 0
      },
      "text/plain": [
       "HBox(children=(IntProgress(value=0, description='Epoch', max=7), HTML(value='')))"
      ]
     },
     "metadata": {},
     "output_type": "display_data"
    },
    {
     "name": "stdout",
     "output_type": "stream",
     "text": [
      "epoch      trn_loss   val_loss   accuracy                   \n",
      "    0      1.119507   1.098541   0.339412  \n",
      "    1      1.185286   1.098354   0.344118                   \n",
      "    2      1.142749   1.098595   0.333824                   \n",
      "    3      457.900398 1.100183   0.321176                       \n",
      "    4      9130.295178 1.099121   0.333529                      \n",
      "    5      1135.796674 1.098496   0.338235                      \n",
      "    6      221.06289  1.098559   0.344412                      \n",
      "\n"
     ]
    }
   ],
   "source": [
    "learner.fit(1e-3, n_cycle=2)\n",
    "learner.fit(1e-3, n_cycle=3, cycle_mult=2)\n",
    "learner.save(\"resnext50_13Oct_with_WeightedRandomSampler_unfreeze_5+\")"
   ]
  },
  {
   "cell_type": "code",
   "execution_count": 20,
   "metadata": {},
   "outputs": [],
   "source": [
    "learner.load(\"resnext50_13Oct_with_WeightedRandomSampler_unfreeze_5+\")"
   ]
  },
  {
   "cell_type": "code",
   "execution_count": 27,
   "metadata": {
    "deletable": false,
    "editable": false,
    "run_control": {
     "frozen": true
    }
   },
   "outputs": [],
   "source": [
    "def showFrame():\n",
    "    for x,y in trainLoader:\n",
    "        for i in range(len(x)):\n",
    "            yield (x[i],y[i])\n",
    "        break\n",
    "gen=showFrame()"
   ]
  },
  {
   "cell_type": "code",
   "execution_count": 91,
   "metadata": {
    "deletable": false,
    "editable": false,
    "run_control": {
     "frozen": true
    }
   },
   "outputs": [
    {
     "name": "stdout",
     "output_type": "stream",
     "text": [
      "2\n"
     ]
    },
    {
     "data": {
      "text/plain": [
       "<matplotlib.image.AxesImage at 0x7fae41c60588>"
      ]
     },
     "execution_count": 91,
     "metadata": {},
     "output_type": "execute_result"
    },
    {
     "data": {
      "image/png": "[encoded data removed]",
      "text/plain": [
       "<Figure size 432x288 with 1 Axes>"
      ]
     },
     "metadata": {},
     "output_type": "display_data"
    }
   ],
   "source": [
    "x,y=next(iter(gen))\n",
    "x=x.cpu().numpy().astype(\"uint8\")\n",
    "x=np.moveaxis(x,0, 2)\n",
    "print(y.cpu().numpy())\n",
    "plt.imshow(x)"
   ]
  },
  {
   "cell_type": "code",
   "execution_count": 21,
   "metadata": {
    "scrolled": true
   },
   "outputs": [
    {
     "name": "stdout",
     "output_type": "stream",
     "text": [
      "tensor(0.2500, device='cuda:0')\n",
      "[(2, 0), (0, 1), (2, 0), (1, 2), (1, 2), (0, 1), (1, 2), (0, 1), (1, 0), (0, 2), (2, 0), (0, 2), (2, 1), (0, 2), (2, 0), (0, 2), (0, 2), (2, 1), (1, 2), (2, 0), (2, 1), (1, 0), (2, 0), (0, 2)]\n",
      "[(2, 2), (2, 2), (2, 2), (2, 2), (0, 0), (2, 2), (2, 2), (2, 2)]\n"
     ]
    }
   ],
   "source": [
    "#Compare wrong labels and right labels with corrosponding groundtruth\n",
    "for x,y in validLoader:\n",
    "    x=x.to(device)\n",
    "    y=y.to(device)\n",
    "    pred=(learner.model(x))\n",
    "    print(accuracy(pred, y))\n",
    "    pred=F.argmax(pred, dim=1)\n",
    "    y=y.cpu().numpy()\n",
    "    pred=pred.cpu().numpy()\n",
    "    print([(i,j) for i,j in zip(y,pred) if i!=j])\n",
    "    print([(i,j) for i,j in zip(y,pred) if i==j])\n",
    "    break"
   ]
  },
  {
   "cell_type": "code",
   "execution_count": 22,
   "metadata": {},
   "outputs": [],
   "source": [
    "#Unfreezing All layers\n",
    "for layer in learner.model.children():\n",
    "    layer.unfreeze()"
   ]
  },
  {
   "cell_type": "code",
   "execution_count": null,
   "metadata": {
    "deletable": false,
    "editable": false,
    "run_control": {
     "frozen": true
    }
   },
   "outputs": [],
   "source": [
    "learner.fit(2e-4, n_cycle=1)"
   ]
  },
  {
   "cell_type": "code",
   "execution_count": 23,
   "metadata": {
    "deletable": false,
    "editable": false,
    "run_control": {
     "frozen": true
    }
   },
   "outputs": [],
   "source": [
    "def showFrame(vidName):\n",
    "    frames=np.load(vidName)\n",
    "    for i,frame in enumerate(frames):\n",
    "      if i%10==0:\n",
    "        frame=frame.squeeze()\n",
    "        if len(frame.shape)==2:frame=np.dstack((frame,frame,frame))\n",
    "    #     print(frame.shape)\n",
    "        label=get_label(vidName, i)\n",
    "        print(label)\n",
    "        plt.imshow(frame)\n",
    "        yield None\n",
    "x=showFrame(rightVids[4])"
   ]
  },
  {
   "cell_type": "code",
   "execution_count": 36,
   "metadata": {},
   "outputs": [],
   "source": [
    "def showResults():\n",
    "    for x,y in validLoader:\n",
    "        x=x.to(device)\n",
    "        y=y.to(device)\n",
    "        pred=(learner.model(x))\n",
    "        y=y.cpu().numpy()\n",
    "        pred=pred.detach().cpu().numpy()\n",
    "        x=np.moveaxis(x.cpu().numpy(), 1, 3)\n",
    "        \n",
    "        print(x.shape)\n",
    "        for i,yi in enumerate(y):\n",
    "            print(f\"GT Label: {yi}    Prediction:{pred[i]}\")\n",
    "            xi=x[i]\n",
    "            xi-=xi.min()\n",
    "            xi/=xi.max()\n",
    "            xi*=255\n",
    "            xi=xi.astype(\"uint8\")\n",
    "            plt.imshow(xi)\n",
    "            yield\n",
    "        break"
   ]
  },
  {
   "cell_type": "code",
   "execution_count": 37,
   "metadata": {},
   "outputs": [
    {
     "name": "stderr",
     "output_type": "stream",
     "text": [
      "Exception ignored in: <bound method _DataLoaderIter.__del__ of <torch.utils.data.dataloader._DataLoaderIter object at 0x7f38cc07d5f8>>\n",
      "Traceback (most recent call last):\n",
      "  File \"/home/sufiyan/anaconda3/envs/fastai/lib/python3.6/site-packages/torch/utils/data/dataloader.py\", line 399, in __del__\n",
      "    self._shutdown_workers()\n",
      "  File \"/home/sufiyan/anaconda3/envs/fastai/lib/python3.6/site-packages/torch/utils/data/dataloader.py\", line 378, in _shutdown_workers\n",
      "    self.worker_result_queue.get()\n",
      "  File \"/home/sufiyan/anaconda3/envs/fastai/lib/python3.6/multiprocessing/queues.py\", line 337, in get\n",
      "    return _ForkingPickler.loads(res)\n",
      "  File \"/home/sufiyan/anaconda3/envs/fastai/lib/python3.6/site-packages/torch/multiprocessing/reductions.py\", line 151, in rebuild_storage_fd\n",
      "    fd = df.detach()\n",
      "  File \"/home/sufiyan/anaconda3/envs/fastai/lib/python3.6/multiprocessing/resource_sharer.py\", line 58, in detach\n",
      "    return reduction.recv_handle(conn)\n",
      "  File \"/home/sufiyan/anaconda3/envs/fastai/lib/python3.6/multiprocessing/reduction.py\", line 182, in recv_handle\n",
      "    return recvfds(s, 1)[0]\n",
      "  File \"/home/sufiyan/anaconda3/envs/fastai/lib/python3.6/multiprocessing/reduction.py\", line 153, in recvfds\n",
      "    msg, ancdata, flags, addr = sock.recvmsg(1, socket.CMSG_LEN(bytes_size))\n",
      "ConnectionResetError: [Errno 104] Connection reset by peer\n"
     ]
    }
   ],
   "source": [
    "doit=iter(showResults())"
   ]
  },
  {
   "cell_type": "code",
   "execution_count": 51,
   "metadata": {},
   "outputs": [
    {
     "name": "stdout",
     "output_type": "stream",
     "text": [
      "GT Label: 2    Prediction:[0.26059 0.35676 0.38264]\n"
     ]
    },
    {
     "data": {
      "image/png": "[encoded data removed]",
      "text/plain": [
       "<Figure size 432x288 with 1 Axes>"
      ]
     },
     "metadata": {},
     "output_type": "display_data"
    }
   ],
   "source": [
    "next(doit)"
   ]
  },
  {
   "cell_type": "code",
   "execution_count": null,
   "metadata": {},
   "outputs": [],
   "source": []
  },
  {
   "cell_type": "code",
   "execution_count": null,
   "metadata": {},
   "outputs": [],
   "source": []
  },
  {
   "cell_type": "code",
   "execution_count": null,
   "metadata": {},
   "outputs": [],
   "source": []
  }
 ],
 "metadata": {
  "kernelspec": {
   "display_name": "Python 3",
   "language": "python",
   "name": "python3"
  },
  "language_info": {
   "codemirror_mode": {
    "name": "ipython",
    "version": 3
   },
   "file_extension": ".py",
   "mimetype": "text/x-python",
   "name": "python",
   "nbconvert_exporter": "python",
   "pygments_lexer": "ipython3",
   "version": "3.6.5"
  }
 },
 "nbformat": 4,
 "nbformat_minor": 2
}
