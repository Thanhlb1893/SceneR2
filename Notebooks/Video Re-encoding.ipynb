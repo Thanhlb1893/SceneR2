{
 "cells": [
  {
   "cell_type": "code",
   "execution_count": 27,
   "metadata": {},
   "outputs": [],
   "source": [
    "import os, subprocess"
   ]
  },
  {
   "cell_type": "code",
   "execution_count": 2,
   "metadata": {},
   "outputs": [],
   "source": [
    "PATH=\"/home/sufiyan/Common_data/mtp2/dataset/OLD\""
   ]
  },
  {
   "cell_type": "code",
   "execution_count": 21,
   "metadata": {},
   "outputs": [],
   "source": [
    "def change_to_new(old_path): return old_path.replace(\"OLD\", \"NEW\")"
   ]
  },
  {
   "cell_type": "code",
   "execution_count": 95,
   "metadata": {},
   "outputs": [],
   "source": [
    "def correct_name(name):\n",
    "    new= \"\".join(name.split(\"(\"))\n",
    "    new=\"\".join(new.split(\")\"))\n",
    "    new=\"\".join(new.split(\" \"))\n",
    "    return new"
   ]
  },
  {
   "cell_type": "code",
   "execution_count": 98,
   "metadata": {},
   "outputs": [],
   "source": [
    "#correct paths by removing paranthesis and spaces from filenames\n",
    "for d,_,fs in os.walk(PATH):\n",
    "    for f in fs:\n",
    "        os.rename(os.path.join(d,f), correct_name(os.path.join(d,f)))"
   ]
  },
  {
   "cell_type": "code",
   "execution_count": 99,
   "metadata": {},
   "outputs": [
    {
     "data": {
      "text/plain": [
       "218"
      ]
     },
     "execution_count": 99,
     "metadata": {},
     "output_type": "execute_result"
    }
   ],
   "source": [
    "vids=[]\n",
    "for d,_,fs in os.walk(PATH):\n",
    "    os.makedirs(change_to_new(d), exist_ok=True)\n",
    "    for f in fs:\n",
    "        if f.split(\".\")[-1]==\"avi\":\n",
    "            vids.append(os.path.join(d,f))\n",
    "            \n",
    "len(vids)"
   ]
  },
  {
   "cell_type": "code",
   "execution_count": 109,
   "metadata": {
    "scrolled": false
   },
   "outputs": [],
   "source": [
    "for vid in vids:\n",
    "    command=f\"ffmpeg -i {vid} -vcodec libx264 -acodec aac {change_to_new(vid)}\"\n",
    "    r=subprocess.call(command, shell=True)"
   ]
  },
  {
   "cell_type": "code",
   "execution_count": null,
   "metadata": {},
   "outputs": [],
   "source": []
  }
 ],
 "metadata": {
  "kernelspec": {
   "display_name": "Python 3",
   "language": "python",
   "name": "python3"
  },
  "language_info": {
   "codemirror_mode": {
    "name": "ipython",
    "version": 3
   },
   "file_extension": ".py",
   "mimetype": "text/x-python",
   "name": "python",
   "nbconvert_exporter": "python",
   "pygments_lexer": "ipython3",
   "version": "3.6.5"
  }
 },
 "nbformat": 4,
 "nbformat_minor": 2
}
